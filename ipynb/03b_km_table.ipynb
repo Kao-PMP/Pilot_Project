{
 "cells": [
  {
   "cell_type": "code",
   "execution_count": 1,
   "metadata": {},
   "outputs": [
    {
     "name": "stderr",
     "output_type": "stream",
     "text": [
      "\n",
      "Attaching package: ‘dplyr’\n",
      "\n",
      "The following objects are masked from ‘package:stats’:\n",
      "\n",
      "    filter, lag\n",
      "\n",
      "The following objects are masked from ‘package:base’:\n",
      "\n",
      "    intersect, setdiff, setequal, union\n",
      "\n"
     ]
    },
    {
     "ename": "ERROR",
     "evalue": "Error in library(table1): there is no package called ‘table1’\n",
     "output_type": "error",
     "traceback": [
      "Error in library(table1): there is no package called ‘table1’\nTraceback:\n",
      "1. library(table1)",
      "2. stop(txt, domain = NA)"
     ]
    }
   ],
   "source": [
    "library(dplyr)\n",
    "library(boot)\n",
    "library(table1)\n",
    "library(Hmisc)"
   ]
  },
  {
   "cell_type": "code",
   "execution_count": 1,
   "metadata": {},
   "outputs": [
    {
     "data": {
      "text/plain": [
       "   \n",
       "        1     2     3     4     5\n",
       "  1   449    26     0  6257     3\n",
       "  2    18    21  2894     0     0\n",
       "  3  4940  5933     1     0     0\n",
       "  4  1545   226     0     7 10586"
      ]
     },
     "metadata": {},
     "output_type": "display_data"
    }
   ],
   "source": [
    "data=read.csv('Data/analysis_ds_clusters.csv')\n",
    "\n",
    "table(data$cluster1, data$cluster2)"
   ]
  },
  {
   "cell_type": "code",
   "execution_count": null,
   "metadata": {},
   "outputs": [],
   "source": [
    "data$Sex = factor(data$Sex, levels=1:2, labels=c(\"Male\", \"Female\"))\n",
    "data$Race2 = factor(data$Race2, levels=1:2, labels=c('Non-Black', 'Black'))\n",
    "data$Toba = factor(data$Toba, levels=0:1, labels=c('No', 'Yes'))\n",
    "data$Htn = factor(data$Htn, levels=0:1, labels=c('No', 'Yes'))\n",
    "data$HxDM = factor(data$HxDM, levels=0:1, labels=c('No', 'Yes'))\n",
    "#all$HxCVD = factor(all$HxCVD, levels=0:1, labels=c('No', 'Yes'))\n",
    "data$HxMIStr = factor(data$HxMIStr, levels=0:1, labels=c('No', 'Yes'))\n",
    "data$HMG = factor(data$HMG, levels=0:1, labels=c('No', 'Yes'))\n",
    "data$asprin = factor(data$asprin, levels=0:1, labels=c('No', 'Yes'))\n",
    "data$revasc = factor(data$revasc, levels=0:1, labels=c('No', 'Yes'))\n",
    "data$cluster1 = factor(data$cluster1, levels=1:4, labels=c('G1', 'G2','G3','G4'))\n",
    "data$cluster2 = factor(data$cluster2, levels=1:5, labels=c('G1', 'G2','G3','G4','G5'))\n",
    "\n",
    "#add labels\n",
    "label(data$study.1)=\"Clinical Trial\"\n",
    "label(data$type_hyp)='Type of Hypertension'\n",
    "label(data$age)=\"Age (years)\"\n",
    "label(data$Sex)=\"Sex\"\n",
    "label(data$Race2)=\"Race\"\n",
    "#label(data$weight)='Weight (kg)'\n",
    "#label(data$height)=\"Height (cm)\"\n",
    "label(data$Toba)='Tobacco Use'\n",
    "label(data$Htn)=\"Hypertension\"\n",
    "label(data$HxDM)='History of Diabetes'\n",
    "#label(dat$HxCVD)='History of Cardiovascular Disease'\n",
    "label(data$HxMIStr)='History of MI or Stroke'\n",
    "label(data$BP.s)=\"Systolic Blood Pressure\"\n",
    "label(data$BP.d)='Diastolic Blood Pressure'\n",
    "label(data$TChol)='Total Cholesterol'\n",
    "label(data$Trig)='Triglycerides'\n",
    "label(data$HMG)='Statins'\n",
    "label(data$asprin)='Aspirin'\n",
    "label(data$revasc)='Prior Revascularization'\n",
    "\n",
    "tab1=table1( ~age + Sex + Race2 + BMI + \n",
    "               Toba + Htn + HxDM + HxMIStr + revasc\n",
    "            + BP.s + BP.d + LDL + HDL + TChol + Trig + HMG + asprin + study.1\n",
    "           | cluster1, data)\n",
    "write.table(tab1, file='Output/03_cluster1.html', quote = FALSE,col.names = FALSE, row.names = FALSE)\n",
    "\n",
    "tab2=table1( ~age + Sex + Race2 + BMI + \n",
    "               Toba + Htn + HxDM + HxMIStr + revasc\n",
    "            + BP.s + BP.d + LDL + HDL + TChol + Trig + HMG + asprin + study.1\n",
    "           | cluster2, data)\n",
    "write.table(tab2, file='Output/03_cluster2.html', quote = FALSE,col.names = FALSE, row.names = FALSE)\n"
   ]
  }
 ],
 "metadata": {
  "kernelspec": {
   "display_name": "R",
   "language": "R",
   "name": "ir"
  },
  "language_info": {
   "codemirror_mode": "r",
   "file_extension": ".r",
   "mimetype": "text/x-r-source",
   "name": "R",
   "pygments_lexer": "r",
   "version": "3.4.1"
  }
 },
 "nbformat": 4,
 "nbformat_minor": 2
}
