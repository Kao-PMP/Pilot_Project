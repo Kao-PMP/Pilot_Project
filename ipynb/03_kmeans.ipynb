{
 "cells": [
  {
   "cell_type": "markdown",
   "metadata": {},
   "source": [
    "Program: 03_kmeans.R  \n",
    "Date: September, 2019  \n",
    "Programmer: Hillary Mulder  \n",
    "Purpose: Use K means for clustering"
   ]
  },
  {
   "cell_type": "code",
   "execution_count": 1,
   "metadata": {},
   "outputs": [
    {
     "name": "stderr",
     "output_type": "stream",
     "text": [
      "Loading required package: lattice\n",
      "Loading required package: ggplot2\n",
      "\n",
      "Attaching package: ‘purrr’\n",
      "\n",
      "The following object is masked from ‘package:caret’:\n",
      "\n",
      "    lift\n",
      "\n",
      "\n",
      "Attaching package: ‘dplyr’\n",
      "\n",
      "The following objects are masked from ‘package:stats’:\n",
      "\n",
      "    filter, lag\n",
      "\n",
      "The following objects are masked from ‘package:base’:\n",
      "\n",
      "    intersect, setdiff, setequal, union\n",
      "\n",
      "\n",
      "Attaching package: ‘boot’\n",
      "\n",
      "The following object is masked from ‘package:lattice’:\n",
      "\n",
      "    melanoma\n",
      "\n",
      "Loading required package: survival\n",
      "\n",
      "Attaching package: ‘survival’\n",
      "\n",
      "The following object is masked from ‘package:boot’:\n",
      "\n",
      "    aml\n",
      "\n",
      "The following object is masked from ‘package:caret’:\n",
      "\n",
      "    cluster\n",
      "\n",
      "Loading required package: Formula\n",
      "\n",
      "Attaching package: ‘Hmisc’\n",
      "\n",
      "The following objects are masked from ‘package:dplyr’:\n",
      "\n",
      "    src, summarize\n",
      "\n",
      "The following objects are masked from ‘package:base’:\n",
      "\n",
      "    format.pval, units\n",
      "\n"
     ]
    }
   ],
   "source": [
    "library(cluster)\n",
    "library(caret)\n",
    "library(purrr)\n",
    "library(dplyr)\n",
    "library(boot)\n",
    "#library(table1)\n",
    "library(Hmisc)"
   ]
  },
  {
   "cell_type": "code",
   "execution_count": 3,
   "metadata": {},
   "outputs": [],
   "source": [
    "data=read.csv(\"Data/analysis_ds.csv\")\n",
    "train=data[which(data$train==1),]\n",
    "#colnames(train)\n",
    "base_nmiss=train[complete.cases(train[, c(1:3, 5, 6, 9:19, 20:22, 50, 51)]), c(1:3, 5, 6, 9:19, 20:22, 50, 51)]\n",
    "studyn=base_nmiss$study.1\n",
    "enrolid=base_nmiss[,1]\n",
    "base_nmiss=base_nmiss[, -c(1,7,8,20,21)]\n",
    "#base_nmiss=base_nmiss[, -c(1,9,10,22,23)]\n",
    "ppr=preProcess(base_nmiss, method=c('center','scale'))\n",
    "\n",
    "#apply transformations\n",
    "base_scale=predict(ppr, newdata=base_nmiss)\n",
    "\n",
    "#base_scale=scale(base_nmiss)"
   ]
  },
  {
   "cell_type": "code",
   "execution_count": 4,
   "metadata": {},
   "outputs": [],
   "source": [
    "test=data[which(data$test==1),]\n",
    "test_nmiss=test[complete.cases(test[, c(1:3, 5, 6, 9:19, 20:22, 50, 51)]), c(1:3, 5, 6, 9:19, 20:22, 50, 51)]\n",
    "test_studyn=test_nmiss$study.1\n",
    "test_enrolid=test_nmiss[,1]\n",
    "test_nmiss=test_nmiss[, -c(1,7,8,20,21)]\n",
    "#base_nmiss=base_nmiss[, -c(1,9,10,22,23)]\n",
    "#test_scale=scale(_nmiss)\n",
    "test_scale=predict(ppr, newdata=test_nmiss)"
   ]
  },
  {
   "cell_type": "code",
   "execution_count": 5,
   "metadata": {},
   "outputs": [
    {
     "name": "stderr",
     "output_type": "stream",
     "text": [
      "Warning message:\n",
      "“Quick-TRANSfer stage steps exceeded maximum (= 1233550)”Warning message:\n",
      "“Quick-TRANSfer stage steps exceeded maximum (= 1233550)”"
     ]
    },
    {
     "data": {
      "image/png": "[encoded data removed]",
      "text/plain": [
       "plot without title"
      ]
     },
     "metadata": {},
     "output_type": "display_data"
    }
   ],
   "source": [
    "set.seed(123)\n",
    "\n",
    "# function to compute total within-cluster sum of square \n",
    "wss <- function(k) {\n",
    "  kmeans(base_scale, k, iter.max=20, nstart = 4)$tot.withinss\n",
    "}\n",
    "\n",
    "# Compute and plot wss for k = 1 to k = 15\n",
    "k.values <- 2:15\n",
    "\n",
    "# extract wss for 2-15 clusters\n",
    "wss_values <- map_dbl(k.values, wss)\n",
    "\n",
    "plot(k.values, wss_values,\n",
    "       type=\"b\", pch = 19, frame = FALSE, \n",
    "       xlab=\"Number of clusters K\",\n",
    "       ylab=\"Total within-clusters sum of squares\")\n"
   ]
  },
  {
   "cell_type": "code",
   "execution_count": 6,
   "metadata": {},
   "outputs": [],
   "source": [
    "#going to use 4 or 5 clusters\n",
    "\n",
    "set.seed(123)\n",
    "cluster1 <- kmeans(base_scale, 4, iter.max=15, nstart = 6)\n",
    "cluster2 <- kmeans(base_scale, 5, iter.max=15, nstart = 6)"
   ]
  },
  {
   "cell_type": "code",
   "execution_count": 7,
   "metadata": {},
   "outputs": [
    {
     "data": {
      "text/html": [
       "<table>\n",
       "<thead><tr><th scope=col>Cluster</th><th scope=col>age</th><th scope=col>Sex</th><th scope=col>Race2</th><th scope=col>BMI</th><th scope=col>Toba</th><th scope=col>HxMIStr</th><th scope=col>revasc</th><th scope=col>BP.s</th><th scope=col>BP.d</th><th scope=col>LDL</th><th scope=col>HDL</th><th scope=col>TChol</th><th scope=col>Trig</th><th scope=col>HMG</th><th scope=col>asprin</th><th scope=col>antihyp</th></tr></thead>\n",
       "<tbody>\n",
       "\t<tr><td>1         </td><td>65.31565  </td><td>1.554614  </td><td>1.994874  </td><td>30.63139  </td><td>0.6453076 </td><td>0.1886830 </td><td>0.05205047</td><td>145.0047  </td><td>83.41719  </td><td>136.15122 </td><td>52.02031  </td><td>212.9440  </td><td>124.0130  </td><td>0.1585174 </td><td>0.3055994 </td><td>1.0000000 </td></tr>\n",
       "\t<tr><td>2         </td><td>64.22291  </td><td>1.407424  </td><td>1.234189  </td><td>29.88754  </td><td>0.4903758 </td><td>0.1567369 </td><td>0.08890926</td><td>149.4060  </td><td>85.20348  </td><td>129.76352 </td><td>45.60587  </td><td>208.0394  </td><td>169.2768  </td><td>0.2172319 </td><td>0.3551787 </td><td>0.0000000 </td></tr>\n",
       "\t<tr><td>3         </td><td>63.77655  </td><td>1.215001  </td><td>1.094279  </td><td>31.84018  </td><td>0.2257506 </td><td>0.4497714 </td><td>0.54553318</td><td>130.4217  </td><td>72.68775  </td><td> 82.09823 </td><td>36.93636  </td><td>153.8745  </td><td>182.1022  </td><td>0.8995428 </td><td>0.8153960 </td><td>0.9935747 </td></tr>\n",
       "\t<tr><td>4         </td><td>66.34801  </td><td>1.453775  </td><td>1.000429  </td><td>29.82910  </td><td>0.6891892 </td><td>0.2148220 </td><td>0.12998713</td><td>145.1526  </td><td>82.52520  </td><td>134.32797 </td><td>44.61583  </td><td>213.9825  </td><td>176.9846  </td><td>0.1025311 </td><td>0.4192407 </td><td>1.0000000 </td></tr>\n",
       "</tbody>\n",
       "</table>\n"
      ],
      "text/latex": [
       "\\begin{tabular}{r|lllllllllllllllll}\n",
       " Cluster & age & Sex & Race2 & BMI & Toba & HxMIStr & revasc & BP.s & BP.d & LDL & HDL & TChol & Trig & HMG & asprin & antihyp\\\\\n",
       "\\hline\n",
       "\t 1          & 65.31565   & 1.554614   & 1.994874   & 30.63139   & 0.6453076  & 0.1886830  & 0.05205047 & 145.0047   & 83.41719   & 136.15122  & 52.02031   & 212.9440   & 124.0130   & 0.1585174  & 0.3055994  & 1.0000000 \\\\\n",
       "\t 2          & 64.22291   & 1.407424   & 1.234189   & 29.88754   & 0.4903758  & 0.1567369  & 0.08890926 & 149.4060   & 85.20348   & 129.76352  & 45.60587   & 208.0394   & 169.2768   & 0.2172319  & 0.3551787  & 0.0000000 \\\\\n",
       "\t 3          & 63.77655   & 1.215001   & 1.094279   & 31.84018   & 0.2257506  & 0.4497714  & 0.54553318 & 130.4217   & 72.68775   &  82.09823  & 36.93636   & 153.8745   & 182.1022   & 0.8995428  & 0.8153960  & 0.9935747 \\\\\n",
       "\t 4          & 66.34801   & 1.453775   & 1.000429   & 29.82910   & 0.6891892  & 0.2148220  & 0.12998713 & 145.1526   & 82.52520   & 134.32797  & 44.61583   & 213.9825   & 176.9846   & 0.1025311  & 0.4192407  & 1.0000000 \\\\\n",
       "\\end{tabular}\n"
      ],
      "text/markdown": [
       "\n",
       "Cluster | age | Sex | Race2 | BMI | Toba | HxMIStr | revasc | BP.s | BP.d | LDL | HDL | TChol | Trig | HMG | asprin | antihyp | \n",
       "|---|---|---|---|\n",
       "| 1          | 65.31565   | 1.554614   | 1.994874   | 30.63139   | 0.6453076  | 0.1886830  | 0.05205047 | 145.0047   | 83.41719   | 136.15122  | 52.02031   | 212.9440   | 124.0130   | 0.1585174  | 0.3055994  | 1.0000000  | \n",
       "| 2          | 64.22291   | 1.407424   | 1.234189   | 29.88754   | 0.4903758  | 0.1567369  | 0.08890926 | 149.4060   | 85.20348   | 129.76352  | 45.60587   | 208.0394   | 169.2768   | 0.2172319  | 0.3551787  | 0.0000000  | \n",
       "| 3          | 63.77655   | 1.215001   | 1.094279   | 31.84018   | 0.2257506  | 0.4497714  | 0.54553318 | 130.4217   | 72.68775   |  82.09823  | 36.93636   | 153.8745   | 182.1022   | 0.8995428  | 0.8153960  | 0.9935747  | \n",
       "| 4          | 66.34801   | 1.453775   | 1.000429   | 29.82910   | 0.6891892  | 0.2148220  | 0.12998713 | 145.1526   | 82.52520   | 134.32797  | 44.61583   | 213.9825   | 176.9846   | 0.1025311  | 0.4192407  | 1.0000000  | \n",
       "\n",
       "\n"
      ],
      "text/plain": [
       "  Cluster age      Sex      Race2    BMI      Toba      HxMIStr   revasc    \n",
       "1 1       65.31565 1.554614 1.994874 30.63139 0.6453076 0.1886830 0.05205047\n",
       "2 2       64.22291 1.407424 1.234189 29.88754 0.4903758 0.1567369 0.08890926\n",
       "3 3       63.77655 1.215001 1.094279 31.84018 0.2257506 0.4497714 0.54553318\n",
       "4 4       66.34801 1.453775 1.000429 29.82910 0.6891892 0.2148220 0.12998713\n",
       "  BP.s     BP.d     LDL       HDL      TChol    Trig     HMG       asprin   \n",
       "1 145.0047 83.41719 136.15122 52.02031 212.9440 124.0130 0.1585174 0.3055994\n",
       "2 149.4060 85.20348 129.76352 45.60587 208.0394 169.2768 0.2172319 0.3551787\n",
       "3 130.4217 72.68775  82.09823 36.93636 153.8745 182.1022 0.8995428 0.8153960\n",
       "4 145.1526 82.52520 134.32797 44.61583 213.9825 176.9846 0.1025311 0.4192407\n",
       "  antihyp  \n",
       "1 1.0000000\n",
       "2 0.0000000\n",
       "3 0.9935747\n",
       "4 1.0000000"
      ]
     },
     "metadata": {},
     "output_type": "display_data"
    },
    {
     "data": {
      "text/html": [
       "<table>\n",
       "<thead><tr><th scope=col>Cluster</th><th scope=col>age</th><th scope=col>Sex</th><th scope=col>Race2</th><th scope=col>BMI</th><th scope=col>Toba</th><th scope=col>HxMIStr</th><th scope=col>revasc</th><th scope=col>BP.s</th><th scope=col>BP.d</th><th scope=col>LDL</th><th scope=col>HDL</th><th scope=col>TChol</th><th scope=col>Trig</th><th scope=col>HMG</th><th scope=col>asprin</th><th scope=col>antihyp</th></tr></thead>\n",
       "<tbody>\n",
       "\t<tr><td>1           </td><td>63.25405    </td><td>1.315497    </td><td>1.156885    </td><td>32.33039    </td><td>0.2228615   </td><td>0.2084772   </td><td>0.0001917913</td><td>132.0401    </td><td>73.28845    </td><td> 90.20081   </td><td>39.28251    </td><td>163.8345    </td><td>179.2213    </td><td>0.74817798  </td><td>0.6609129   </td><td>0.9948216   </td></tr>\n",
       "\t<tr><td>2           </td><td>64.05902    </td><td>1.170098    </td><td>1.065655    </td><td>31.44811    </td><td>0.2576381   </td><td>0.6084507   </td><td>0.9997833153</td><td>130.7757    </td><td>73.43077    </td><td> 82.43055   </td><td>35.89772    </td><td>153.7597    </td><td>184.5941    </td><td>0.88060672  </td><td>0.8829902   </td><td>0.9882990   </td></tr>\n",
       "\t<tr><td>3           </td><td>64.27408    </td><td>1.411519    </td><td>1.236879    </td><td>29.86599    </td><td>0.4941941   </td><td>0.1542034   </td><td>0.0831398049</td><td>149.6558    </td><td>85.33535    </td><td>130.39155   </td><td>45.72736    </td><td>208.8616    </td><td>168.9340    </td><td>0.20668834  </td><td>0.3483511   </td><td>0.0000000   </td></tr>\n",
       "\t<tr><td>4           </td><td>65.48788    </td><td>1.563255    </td><td>1.994067    </td><td>30.47099    </td><td>0.6785336   </td><td>0.1938970   </td><td>0.0521296885</td><td>145.7730    </td><td>84.04556    </td><td>138.77156   </td><td>52.65099    </td><td>216.1227    </td><td>123.6675    </td><td>0.11888112  </td><td>0.2860776   </td><td>1.0000000   </td></tr>\n",
       "\t<tr><td>5           </td><td>66.91711    </td><td>1.464115    </td><td>1.000251    </td><td>29.43393    </td><td>0.7501882   </td><td>0.2258469   </td><td>0.1311166876</td><td>146.5841    </td><td>83.48632    </td><td>138.55433   </td><td>45.28043    </td><td>218.4538    </td><td>174.2345    </td><td>0.06813049  </td><td>0.4030113   </td><td>1.0000000   </td></tr>\n",
       "</tbody>\n",
       "</table>\n"
      ],
      "text/latex": [
       "\\begin{tabular}{r|lllllllllllllllll}\n",
       " Cluster & age & Sex & Race2 & BMI & Toba & HxMIStr & revasc & BP.s & BP.d & LDL & HDL & TChol & Trig & HMG & asprin & antihyp\\\\\n",
       "\\hline\n",
       "\t 1            & 63.25405     & 1.315497     & 1.156885     & 32.33039     & 0.2228615    & 0.2084772    & 0.0001917913 & 132.0401     & 73.28845     &  90.20081    & 39.28251     & 163.8345     & 179.2213     & 0.74817798   & 0.6609129    & 0.9948216   \\\\\n",
       "\t 2            & 64.05902     & 1.170098     & 1.065655     & 31.44811     & 0.2576381    & 0.6084507    & 0.9997833153 & 130.7757     & 73.43077     &  82.43055    & 35.89772     & 153.7597     & 184.5941     & 0.88060672   & 0.8829902    & 0.9882990   \\\\\n",
       "\t 3            & 64.27408     & 1.411519     & 1.236879     & 29.86599     & 0.4941941    & 0.1542034    & 0.0831398049 & 149.6558     & 85.33535     & 130.39155    & 45.72736     & 208.8616     & 168.9340     & 0.20668834   & 0.3483511    & 0.0000000   \\\\\n",
       "\t 4            & 65.48788     & 1.563255     & 1.994067     & 30.47099     & 0.6785336    & 0.1938970    & 0.0521296885 & 145.7730     & 84.04556     & 138.77156    & 52.65099     & 216.1227     & 123.6675     & 0.11888112   & 0.2860776    & 1.0000000   \\\\\n",
       "\t 5            & 66.91711     & 1.464115     & 1.000251     & 29.43393     & 0.7501882    & 0.2258469    & 0.1311166876 & 146.5841     & 83.48632     & 138.55433    & 45.28043     & 218.4538     & 174.2345     & 0.06813049   & 0.4030113    & 1.0000000   \\\\\n",
       "\\end{tabular}\n"
      ],
      "text/markdown": [
       "\n",
       "Cluster | age | Sex | Race2 | BMI | Toba | HxMIStr | revasc | BP.s | BP.d | LDL | HDL | TChol | Trig | HMG | asprin | antihyp | \n",
       "|---|---|---|---|---|\n",
       "| 1            | 63.25405     | 1.315497     | 1.156885     | 32.33039     | 0.2228615    | 0.2084772    | 0.0001917913 | 132.0401     | 73.28845     |  90.20081    | 39.28251     | 163.8345     | 179.2213     | 0.74817798   | 0.6609129    | 0.9948216    | \n",
       "| 2            | 64.05902     | 1.170098     | 1.065655     | 31.44811     | 0.2576381    | 0.6084507    | 0.9997833153 | 130.7757     | 73.43077     |  82.43055    | 35.89772     | 153.7597     | 184.5941     | 0.88060672   | 0.8829902    | 0.9882990    | \n",
       "| 3            | 64.27408     | 1.411519     | 1.236879     | 29.86599     | 0.4941941    | 0.1542034    | 0.0831398049 | 149.6558     | 85.33535     | 130.39155    | 45.72736     | 208.8616     | 168.9340     | 0.20668834   | 0.3483511    | 0.0000000    | \n",
       "| 4            | 65.48788     | 1.563255     | 1.994067     | 30.47099     | 0.6785336    | 0.1938970    | 0.0521296885 | 145.7730     | 84.04556     | 138.77156    | 52.65099     | 216.1227     | 123.6675     | 0.11888112   | 0.2860776    | 1.0000000    | \n",
       "| 5            | 66.91711     | 1.464115     | 1.000251     | 29.43393     | 0.7501882    | 0.2258469    | 0.1311166876 | 146.5841     | 83.48632     | 138.55433    | 45.28043     | 218.4538     | 174.2345     | 0.06813049   | 0.4030113    | 1.0000000    | \n",
       "\n",
       "\n"
      ],
      "text/plain": [
       "  Cluster age      Sex      Race2    BMI      Toba      HxMIStr   revasc      \n",
       "1 1       63.25405 1.315497 1.156885 32.33039 0.2228615 0.2084772 0.0001917913\n",
       "2 2       64.05902 1.170098 1.065655 31.44811 0.2576381 0.6084507 0.9997833153\n",
       "3 3       64.27408 1.411519 1.236879 29.86599 0.4941941 0.1542034 0.0831398049\n",
       "4 4       65.48788 1.563255 1.994067 30.47099 0.6785336 0.1938970 0.0521296885\n",
       "5 5       66.91711 1.464115 1.000251 29.43393 0.7501882 0.2258469 0.1311166876\n",
       "  BP.s     BP.d     LDL       HDL      TChol    Trig     HMG        asprin   \n",
       "1 132.0401 73.28845  90.20081 39.28251 163.8345 179.2213 0.74817798 0.6609129\n",
       "2 130.7757 73.43077  82.43055 35.89772 153.7597 184.5941 0.88060672 0.8829902\n",
       "3 149.6558 85.33535 130.39155 45.72736 208.8616 168.9340 0.20668834 0.3483511\n",
       "4 145.7730 84.04556 138.77156 52.65099 216.1227 123.6675 0.11888112 0.2860776\n",
       "5 146.5841 83.48632 138.55433 45.28043 218.4538 174.2345 0.06813049 0.4030113\n",
       "  antihyp  \n",
       "1 0.9948216\n",
       "2 0.9882990\n",
       "3 0.0000000\n",
       "4 1.0000000\n",
       "5 1.0000000"
      ]
     },
     "metadata": {},
     "output_type": "display_data"
    }
   ],
   "source": [
    "base_nmiss %>%\n",
    "  mutate(Cluster = cluster1$cluster) %>%\n",
    "  group_by(Cluster) %>%\n",
    "  summarise_all(\"mean\")\n",
    "\n",
    "base_nmiss %>%\n",
    "  mutate(Cluster = cluster2$cluster) %>%\n",
    "  group_by(Cluster) %>%\n",
    "  summarise_all(\"mean\")"
   ]
  },
  {
   "cell_type": "code",
   "execution_count": 8,
   "metadata": {},
   "outputs": [
    {
     "data": {
      "text/plain": [
       "         \n",
       "             1    2    3    4\n",
       "  ACCORD   901  874 3700 1795\n",
       "  AIMHIGH    9   53 3026   14\n",
       "  ALLHAT  3983 1230  406 7300\n",
       "  BARI2D   179   25  961  215"
      ]
     },
     "metadata": {},
     "output_type": "display_data"
    },
    {
     "data": {
      "text/plain": [
       "         \n",
       "             1    2    3    4    5\n",
       "  ACCORD  3373 1331  854  683 1029\n",
       "  AIMHIGH  477 2568   44    6    7\n",
       "  ALLHAT   544  422 1230 3908 6815\n",
       "  BARI2D   820  294   25  122  119"
      ]
     },
     "metadata": {},
     "output_type": "display_data"
    }
   ],
   "source": [
    "#table(base_nmiss$studyn, final$cluster)\n",
    "check=data.frame(person_id=enrolid, study=studyn, cluster1=cluster1$cluster, cluster2=cluster2$cluster)\n",
    "#head(check)\n",
    "table(check$study, check$cluster1)\n",
    "table(check$study, check$cluster2)"
   ]
  },
  {
   "cell_type": "code",
   "execution_count": 9,
   "metadata": {},
   "outputs": [
    {
     "data": {
      "text/plain": [
       "         \n",
       "             1    2    3    4\n",
       "  ACCORD   260  285 1312  574\n",
       "  AIMHIGH    3   16 1011    6\n",
       "  ALLHAT  1331  439  142 2397\n",
       "  BARI2D    69   11  316   63"
      ]
     },
     "metadata": {},
     "output_type": "display_data"
    },
    {
     "data": {
      "text/plain": [
       "         \n",
       "             1    2    3    4    5\n",
       "  ACCORD  1150  478  281  184  338\n",
       "  AIMHIGH  159  864   11    0    2\n",
       "  ALLHAT   179  147  439 1310 2234\n",
       "  BARI2D   250  102   11   51   45"
      ]
     },
     "metadata": {},
     "output_type": "display_data"
    }
   ],
   "source": [
    "#table(base_nmiss$studyn, final$cluster)\n",
    "predict.kmeans <- function(object,\n",
    "                           newdata,\n",
    "                           method = c(\"centers\", \"classes\")) {\n",
    "  method <- match.arg(method)\n",
    "\n",
    "  centers <- object$centers\n",
    "  ss_by_center <- apply(centers, 1, function(x) {\n",
    "    colSums((t(newdata) - x) ^ 2)\n",
    "  })\n",
    "  best_clusters <- apply(ss_by_center, 1, which.min)\n",
    "\n",
    "  if (method == \"centers\") {\n",
    "    centers[best_clusters, ]\n",
    "  } else {\n",
    "    best_clusters\n",
    "  }\n",
    "}\n",
    "\n",
    "pred1=predict.kmeans(cluster1, newdata=test_scale, method=\"classes\")\n",
    "pred2=predict.kmeans(cluster2, newdata=test_scale, method=\"classes\")\n",
    "std=data.frame(person_id=test_enrolid, study=test_studyn, cluster1=pred1, cluster2=pred2)\n",
    "#head(std)\n",
    "table(std$study, std$cluster1)\n",
    "table(std$study, std$cluster2)"
   ]
  },
  {
   "cell_type": "code",
   "execution_count": 10,
   "metadata": {},
   "outputs": [],
   "source": [
    "#train2=left_join(x=train, y=check, by='person_id')\n",
    "#colnames(train)\n",
    "#head(train)\n",
    "#test2=left_join(x=test, y=std, by='person_id')\n",
    "\n",
    "#all=rbind(train2, test2)\n",
    "#head(all)\n",
    "#write.csv(all, file='Data/analysis_ds_clusters.csv', quote = FALSE,  row.names = FALSE)"
   ]
  }
 ],
 "metadata": {
  "kernelspec": {
   "display_name": "R",
   "language": "R",
   "name": "ir"
  },
  "language_info": {
   "codemirror_mode": "r",
   "file_extension": ".r",
   "mimetype": "text/x-r-source",
   "name": "R",
   "pygments_lexer": "r",
   "version": "3.4.1"
  }
 },
 "nbformat": 4,
 "nbformat_minor": 2
}
