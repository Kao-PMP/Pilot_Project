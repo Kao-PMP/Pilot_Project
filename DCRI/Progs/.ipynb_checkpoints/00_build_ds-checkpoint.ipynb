{
 "cells": [
  {
   "cell_type": "markdown",
   "metadata": {},
   "source": [
    "Program: 00_build_ds  \n",
    "Date: July 2, 2019  \n",
    "Programmer: Hillary Mulder  \n",
    "Purpose: Build analysis data set for the PMP pilot project"
   ]
  },
  {
   "cell_type": "code",
   "execution_count": 2,
   "metadata": {},
   "outputs": [
    {
     "name": "stderr",
     "output_type": "stream",
     "text": [
      "\n",
      "Attaching package: ‘dplyr’\n",
      "\n",
      "The following objects are masked from ‘package:stats’:\n",
      "\n",
      "    filter, lag\n",
      "\n",
      "The following objects are masked from ‘package:base’:\n",
      "\n",
      "    intersect, setdiff, setequal, union\n",
      "\n"
     ]
    }
   ],
   "source": [
    "setwd('/mnt/workspace/DCRI/Data')\n",
    "library(dplyr)\n",
    "\n",
    "aimhigh=read.csv('aimhigh.csv')\n",
    "bari=read.csv('bari2d.csv')\n",
    "allhat=read.csv('allhat.csv')\n",
    "accord=read.csv('accord.csv')"
   ]
  },
  {
   "cell_type": "code",
   "execution_count": 12,
   "metadata": {},
   "outputs": [
    {
     "data": {
      "text/html": [
       "<ol class=list-inline>\n",
       "\t<li>'person_id'</li>\n",
       "\t<li>'age'</li>\n",
       "\t<li>'Sex'</li>\n",
       "\t<li>'Race'</li>\n",
       "\t<li>'Race2'</li>\n",
       "\t<li>'BMI'</li>\n",
       "\t<li>'weight'</li>\n",
       "\t<li>'height'</li>\n",
       "\t<li>'Toba'</li>\n",
       "\t<li>'Htn'</li>\n",
       "\t<li>'HxDM'</li>\n",
       "\t<li>'HxMIStr'</li>\n",
       "\t<li>'revasc'</li>\n",
       "\t<li>'BP.s'</li>\n",
       "\t<li>'BP.d'</li>\n",
       "\t<li>'LDL'</li>\n",
       "\t<li>'HDL'</li>\n",
       "\t<li>'TChol'</li>\n",
       "\t<li>'Trig'</li>\n",
       "\t<li>'HMG'</li>\n",
       "\t<li>'asprin'</li>\n",
       "\t<li>'antihyp'</li>\n",
       "\t<li>'MI'</li>\n",
       "\t<li>'HxStr'</li>\n",
       "\t<li>'CABG'</li>\n",
       "\t<li>'PCI'</li>\n",
       "\t<li>'Loop'</li>\n",
       "\t<li>'thiazide'</li>\n",
       "\t<li>'KDiur'</li>\n",
       "\t<li>'ARB'</li>\n",
       "\t<li>'AceI'</li>\n",
       "\t<li>'Dihy'</li>\n",
       "\t<li>'nonDihy'</li>\n",
       "\t<li>'BetaB'</li>\n",
       "\t<li>'rese'</li>\n",
       "\t<li>'othBPmed'</li>\n",
       "\t<li>'ONitra'</li>\n",
       "\t<li>'nslNitrate'</li>\n",
       "\t<li>'TZD'</li>\n",
       "\t<li>'VASO'</li>\n",
       "\t<li>'Cent'</li>\n",
       "\t<li>'AlphaB'</li>\n",
       "\t<li>'K'</li>\n",
       "\t<li>'dthDays'</li>\n",
       "\t<li>'dthStat'</li>\n",
       "\t<li>'study'</li>\n",
       "\t<li>'studyIDI'</li>\n",
       "\t<li>'DIUR'</li>\n",
       "\t<li>'CaCB'</li>\n",
       "\t<li>'study.1'</li>\n",
       "</ol>\n"
      ],
      "text/latex": [
       "\\begin{enumerate*}\n",
       "\\item 'person\\_id'\n",
       "\\item 'age'\n",
       "\\item 'Sex'\n",
       "\\item 'Race'\n",
       "\\item 'Race2'\n",
       "\\item 'BMI'\n",
       "\\item 'weight'\n",
       "\\item 'height'\n",
       "\\item 'Toba'\n",
       "\\item 'Htn'\n",
       "\\item 'HxDM'\n",
       "\\item 'HxMIStr'\n",
       "\\item 'revasc'\n",
       "\\item 'BP.s'\n",
       "\\item 'BP.d'\n",
       "\\item 'LDL'\n",
       "\\item 'HDL'\n",
       "\\item 'TChol'\n",
       "\\item 'Trig'\n",
       "\\item 'HMG'\n",
       "\\item 'asprin'\n",
       "\\item 'antihyp'\n",
       "\\item 'MI'\n",
       "\\item 'HxStr'\n",
       "\\item 'CABG'\n",
       "\\item 'PCI'\n",
       "\\item 'Loop'\n",
       "\\item 'thiazide'\n",
       "\\item 'KDiur'\n",
       "\\item 'ARB'\n",
       "\\item 'AceI'\n",
       "\\item 'Dihy'\n",
       "\\item 'nonDihy'\n",
       "\\item 'BetaB'\n",
       "\\item 'rese'\n",
       "\\item 'othBPmed'\n",
       "\\item 'ONitra'\n",
       "\\item 'nslNitrate'\n",
       "\\item 'TZD'\n",
       "\\item 'VASO'\n",
       "\\item 'Cent'\n",
       "\\item 'AlphaB'\n",
       "\\item 'K'\n",
       "\\item 'dthDays'\n",
       "\\item 'dthStat'\n",
       "\\item 'study'\n",
       "\\item 'studyIDI'\n",
       "\\item 'DIUR'\n",
       "\\item 'CaCB'\n",
       "\\item 'study.1'\n",
       "\\end{enumerate*}\n"
      ],
      "text/markdown": [
       "1. 'person_id'\n",
       "2. 'age'\n",
       "3. 'Sex'\n",
       "4. 'Race'\n",
       "5. 'Race2'\n",
       "6. 'BMI'\n",
       "7. 'weight'\n",
       "8. 'height'\n",
       "9. 'Toba'\n",
       "10. 'Htn'\n",
       "11. 'HxDM'\n",
       "12. 'HxMIStr'\n",
       "13. 'revasc'\n",
       "14. 'BP.s'\n",
       "15. 'BP.d'\n",
       "16. 'LDL'\n",
       "17. 'HDL'\n",
       "18. 'TChol'\n",
       "19. 'Trig'\n",
       "20. 'HMG'\n",
       "21. 'asprin'\n",
       "22. 'antihyp'\n",
       "23. 'MI'\n",
       "24. 'HxStr'\n",
       "25. 'CABG'\n",
       "26. 'PCI'\n",
       "27. 'Loop'\n",
       "28. 'thiazide'\n",
       "29. 'KDiur'\n",
       "30. 'ARB'\n",
       "31. 'AceI'\n",
       "32. 'Dihy'\n",
       "33. 'nonDihy'\n",
       "34. 'BetaB'\n",
       "35. 'rese'\n",
       "36. 'othBPmed'\n",
       "37. 'ONitra'\n",
       "38. 'nslNitrate'\n",
       "39. 'TZD'\n",
       "40. 'VASO'\n",
       "41. 'Cent'\n",
       "42. 'AlphaB'\n",
       "43. 'K'\n",
       "44. 'dthDays'\n",
       "45. 'dthStat'\n",
       "46. 'study'\n",
       "47. 'studyIDI'\n",
       "48. 'DIUR'\n",
       "49. 'CaCB'\n",
       "50. 'study.1'\n",
       "\n",
       "\n"
      ],
      "text/plain": [
       " [1] \"person_id\"  \"age\"        \"Sex\"        \"Race\"       \"Race2\"     \n",
       " [6] \"BMI\"        \"weight\"     \"height\"     \"Toba\"       \"Htn\"       \n",
       "[11] \"HxDM\"       \"HxMIStr\"    \"revasc\"     \"BP.s\"       \"BP.d\"      \n",
       "[16] \"LDL\"        \"HDL\"        \"TChol\"      \"Trig\"       \"HMG\"       \n",
       "[21] \"asprin\"     \"antihyp\"    \"MI\"         \"HxStr\"      \"CABG\"      \n",
       "[26] \"PCI\"        \"Loop\"       \"thiazide\"   \"KDiur\"      \"ARB\"       \n",
       "[31] \"AceI\"       \"Dihy\"       \"nonDihy\"    \"BetaB\"      \"rese\"      \n",
       "[36] \"othBPmed\"   \"ONitra\"     \"nslNitrate\" \"TZD\"        \"VASO\"      \n",
       "[41] \"Cent\"       \"AlphaB\"     \"K\"          \"dthDays\"    \"dthStat\"   \n",
       "[46] \"study\"      \"studyIDI\"   \"DIUR\"       \"CaCB\"       \"study.1\"   "
      ]
     },
     "metadata": {},
     "output_type": "display_data"
    },
    {
     "data": {
      "text/html": [
       "4273"
      ],
      "text/latex": [
       "4273"
      ],
      "text/markdown": [
       "4273"
      ],
      "text/plain": [
       "[1] 4273"
      ]
     },
     "metadata": {},
     "output_type": "display_data"
    },
    {
     "data": {
      "text/plain": [
       "\n",
       "AIMHIGH \n",
       "   4273 "
      ]
     },
     "metadata": {},
     "output_type": "display_data"
    }
   ],
   "source": [
    "colnames(aimhigh)\n",
    "nrow(aimhigh)\n",
    "table(aimhigh$study.1)"
   ]
  },
  {
   "cell_type": "code",
   "execution_count": 13,
   "metadata": {},
   "outputs": [
    {
     "data": {
      "text/html": [
       "<ol class=list-inline>\n",
       "\t<li>'person_id'</li>\n",
       "\t<li>'age'</li>\n",
       "\t<li>'Sex'</li>\n",
       "\t<li>'Race'</li>\n",
       "\t<li>'Race2'</li>\n",
       "\t<li>'BMI'</li>\n",
       "\t<li>'weight'</li>\n",
       "\t<li>'height'</li>\n",
       "\t<li>'Toba'</li>\n",
       "\t<li>'Htn'</li>\n",
       "\t<li>'HxDM'</li>\n",
       "\t<li>'HxMIStr'</li>\n",
       "\t<li>'revasc'</li>\n",
       "\t<li>'BP.s'</li>\n",
       "\t<li>'BP.d'</li>\n",
       "\t<li>'LDL'</li>\n",
       "\t<li>'HDL'</li>\n",
       "\t<li>'TChol'</li>\n",
       "\t<li>'Trig'</li>\n",
       "\t<li>'HMG'</li>\n",
       "\t<li>'asprin'</li>\n",
       "\t<li>'antihyp'</li>\n",
       "\t<li>'MI'</li>\n",
       "\t<li>'HxStr'</li>\n",
       "\t<li>'CABG'</li>\n",
       "\t<li>'PCI'</li>\n",
       "\t<li>'Loop'</li>\n",
       "\t<li>'thiazide'</li>\n",
       "\t<li>'KDiur'</li>\n",
       "\t<li>'ARB'</li>\n",
       "\t<li>'AceI'</li>\n",
       "\t<li>'Dihy'</li>\n",
       "\t<li>'nonDihy'</li>\n",
       "\t<li>'BetaB'</li>\n",
       "\t<li>'rese'</li>\n",
       "\t<li>'othBPmed'</li>\n",
       "\t<li>'ONitra'</li>\n",
       "\t<li>'nslNitrate'</li>\n",
       "\t<li>'TZD'</li>\n",
       "\t<li>'VASO'</li>\n",
       "\t<li>'Cent'</li>\n",
       "\t<li>'AlphaB'</li>\n",
       "\t<li>'K'</li>\n",
       "\t<li>'dthDays'</li>\n",
       "\t<li>'dthStat'</li>\n",
       "\t<li>'study'</li>\n",
       "\t<li>'studyIDI'</li>\n",
       "\t<li>'DIUR'</li>\n",
       "\t<li>'CaCB'</li>\n",
       "\t<li>'study.1'</li>\n",
       "</ol>\n"
      ],
      "text/latex": [
       "\\begin{enumerate*}\n",
       "\\item 'person\\_id'\n",
       "\\item 'age'\n",
       "\\item 'Sex'\n",
       "\\item 'Race'\n",
       "\\item 'Race2'\n",
       "\\item 'BMI'\n",
       "\\item 'weight'\n",
       "\\item 'height'\n",
       "\\item 'Toba'\n",
       "\\item 'Htn'\n",
       "\\item 'HxDM'\n",
       "\\item 'HxMIStr'\n",
       "\\item 'revasc'\n",
       "\\item 'BP.s'\n",
       "\\item 'BP.d'\n",
       "\\item 'LDL'\n",
       "\\item 'HDL'\n",
       "\\item 'TChol'\n",
       "\\item 'Trig'\n",
       "\\item 'HMG'\n",
       "\\item 'asprin'\n",
       "\\item 'antihyp'\n",
       "\\item 'MI'\n",
       "\\item 'HxStr'\n",
       "\\item 'CABG'\n",
       "\\item 'PCI'\n",
       "\\item 'Loop'\n",
       "\\item 'thiazide'\n",
       "\\item 'KDiur'\n",
       "\\item 'ARB'\n",
       "\\item 'AceI'\n",
       "\\item 'Dihy'\n",
       "\\item 'nonDihy'\n",
       "\\item 'BetaB'\n",
       "\\item 'rese'\n",
       "\\item 'othBPmed'\n",
       "\\item 'ONitra'\n",
       "\\item 'nslNitrate'\n",
       "\\item 'TZD'\n",
       "\\item 'VASO'\n",
       "\\item 'Cent'\n",
       "\\item 'AlphaB'\n",
       "\\item 'K'\n",
       "\\item 'dthDays'\n",
       "\\item 'dthStat'\n",
       "\\item 'study'\n",
       "\\item 'studyIDI'\n",
       "\\item 'DIUR'\n",
       "\\item 'CaCB'\n",
       "\\item 'study.1'\n",
       "\\end{enumerate*}\n"
      ],
      "text/markdown": [
       "1. 'person_id'\n",
       "2. 'age'\n",
       "3. 'Sex'\n",
       "4. 'Race'\n",
       "5. 'Race2'\n",
       "6. 'BMI'\n",
       "7. 'weight'\n",
       "8. 'height'\n",
       "9. 'Toba'\n",
       "10. 'Htn'\n",
       "11. 'HxDM'\n",
       "12. 'HxMIStr'\n",
       "13. 'revasc'\n",
       "14. 'BP.s'\n",
       "15. 'BP.d'\n",
       "16. 'LDL'\n",
       "17. 'HDL'\n",
       "18. 'TChol'\n",
       "19. 'Trig'\n",
       "20. 'HMG'\n",
       "21. 'asprin'\n",
       "22. 'antihyp'\n",
       "23. 'MI'\n",
       "24. 'HxStr'\n",
       "25. 'CABG'\n",
       "26. 'PCI'\n",
       "27. 'Loop'\n",
       "28. 'thiazide'\n",
       "29. 'KDiur'\n",
       "30. 'ARB'\n",
       "31. 'AceI'\n",
       "32. 'Dihy'\n",
       "33. 'nonDihy'\n",
       "34. 'BetaB'\n",
       "35. 'rese'\n",
       "36. 'othBPmed'\n",
       "37. 'ONitra'\n",
       "38. 'nslNitrate'\n",
       "39. 'TZD'\n",
       "40. 'VASO'\n",
       "41. 'Cent'\n",
       "42. 'AlphaB'\n",
       "43. 'K'\n",
       "44. 'dthDays'\n",
       "45. 'dthStat'\n",
       "46. 'study'\n",
       "47. 'studyIDI'\n",
       "48. 'DIUR'\n",
       "49. 'CaCB'\n",
       "50. 'study.1'\n",
       "\n",
       "\n"
      ],
      "text/plain": [
       " [1] \"person_id\"  \"age\"        \"Sex\"        \"Race\"       \"Race2\"     \n",
       " [6] \"BMI\"        \"weight\"     \"height\"     \"Toba\"       \"Htn\"       \n",
       "[11] \"HxDM\"       \"HxMIStr\"    \"revasc\"     \"BP.s\"       \"BP.d\"      \n",
       "[16] \"LDL\"        \"HDL\"        \"TChol\"      \"Trig\"       \"HMG\"       \n",
       "[21] \"asprin\"     \"antihyp\"    \"MI\"         \"HxStr\"      \"CABG\"      \n",
       "[26] \"PCI\"        \"Loop\"       \"thiazide\"   \"KDiur\"      \"ARB\"       \n",
       "[31] \"AceI\"       \"Dihy\"       \"nonDihy\"    \"BetaB\"      \"rese\"      \n",
       "[36] \"othBPmed\"   \"ONitra\"     \"nslNitrate\" \"TZD\"        \"VASO\"      \n",
       "[41] \"Cent\"       \"AlphaB\"     \"K\"          \"dthDays\"    \"dthStat\"   \n",
       "[46] \"study\"      \"studyIDI\"   \"DIUR\"       \"CaCB\"       \"study.1\"   "
      ]
     },
     "metadata": {},
     "output_type": "display_data"
    },
    {
     "data": {
      "text/html": [
       "10251"
      ],
      "text/latex": [
       "10251"
      ],
      "text/markdown": [
       "10251"
      ],
      "text/plain": [
       "[1] 10251"
      ]
     },
     "metadata": {},
     "output_type": "display_data"
    },
    {
     "data": {
      "text/plain": [
       "\n",
       "ACCORD \n",
       " 10251 "
      ]
     },
     "metadata": {},
     "output_type": "display_data"
    }
   ],
   "source": [
    "colnames(accord)\n",
    "nrow(accord)\n",
    "table(accord$study.1)"
   ]
  },
  {
   "cell_type": "code",
   "execution_count": 14,
   "metadata": {},
   "outputs": [
    {
     "data": {
      "text/html": [
       "<ol class=list-inline>\n",
       "\t<li>'person_id'</li>\n",
       "\t<li>'age'</li>\n",
       "\t<li>'Sex'</li>\n",
       "\t<li>'Race'</li>\n",
       "\t<li>'Race2'</li>\n",
       "\t<li>'BMI'</li>\n",
       "\t<li>'weight'</li>\n",
       "\t<li>'height'</li>\n",
       "\t<li>'Toba'</li>\n",
       "\t<li>'Htn'</li>\n",
       "\t<li>'HxDM'</li>\n",
       "\t<li>'HxMIStr'</li>\n",
       "\t<li>'revasc'</li>\n",
       "\t<li>'BP.s'</li>\n",
       "\t<li>'BP.d'</li>\n",
       "\t<li>'LDL'</li>\n",
       "\t<li>'HDL'</li>\n",
       "\t<li>'TChol'</li>\n",
       "\t<li>'Trig'</li>\n",
       "\t<li>'HMG'</li>\n",
       "\t<li>'asprin'</li>\n",
       "\t<li>'antihyp'</li>\n",
       "\t<li>'MI'</li>\n",
       "\t<li>'HxStr'</li>\n",
       "\t<li>'CABG'</li>\n",
       "\t<li>'PCI'</li>\n",
       "\t<li>'Loop'</li>\n",
       "\t<li>'thiazide'</li>\n",
       "\t<li>'KDiur'</li>\n",
       "\t<li>'ARB'</li>\n",
       "\t<li>'AceI'</li>\n",
       "\t<li>'Dihy'</li>\n",
       "\t<li>'nonDihy'</li>\n",
       "\t<li>'BetaB'</li>\n",
       "\t<li>'rese'</li>\n",
       "\t<li>'othBPmed'</li>\n",
       "\t<li>'ONitra'</li>\n",
       "\t<li>'nslNitrate'</li>\n",
       "\t<li>'TZD'</li>\n",
       "\t<li>'VASO'</li>\n",
       "\t<li>'Cent'</li>\n",
       "\t<li>'AlphaB'</li>\n",
       "\t<li>'K'</li>\n",
       "\t<li>'dthDays'</li>\n",
       "\t<li>'dthStat'</li>\n",
       "\t<li>'study'</li>\n",
       "\t<li>'studyIDI'</li>\n",
       "\t<li>'DIUR'</li>\n",
       "\t<li>'CaCB'</li>\n",
       "\t<li>'study.1'</li>\n",
       "</ol>\n"
      ],
      "text/latex": [
       "\\begin{enumerate*}\n",
       "\\item 'person\\_id'\n",
       "\\item 'age'\n",
       "\\item 'Sex'\n",
       "\\item 'Race'\n",
       "\\item 'Race2'\n",
       "\\item 'BMI'\n",
       "\\item 'weight'\n",
       "\\item 'height'\n",
       "\\item 'Toba'\n",
       "\\item 'Htn'\n",
       "\\item 'HxDM'\n",
       "\\item 'HxMIStr'\n",
       "\\item 'revasc'\n",
       "\\item 'BP.s'\n",
       "\\item 'BP.d'\n",
       "\\item 'LDL'\n",
       "\\item 'HDL'\n",
       "\\item 'TChol'\n",
       "\\item 'Trig'\n",
       "\\item 'HMG'\n",
       "\\item 'asprin'\n",
       "\\item 'antihyp'\n",
       "\\item 'MI'\n",
       "\\item 'HxStr'\n",
       "\\item 'CABG'\n",
       "\\item 'PCI'\n",
       "\\item 'Loop'\n",
       "\\item 'thiazide'\n",
       "\\item 'KDiur'\n",
       "\\item 'ARB'\n",
       "\\item 'AceI'\n",
       "\\item 'Dihy'\n",
       "\\item 'nonDihy'\n",
       "\\item 'BetaB'\n",
       "\\item 'rese'\n",
       "\\item 'othBPmed'\n",
       "\\item 'ONitra'\n",
       "\\item 'nslNitrate'\n",
       "\\item 'TZD'\n",
       "\\item 'VASO'\n",
       "\\item 'Cent'\n",
       "\\item 'AlphaB'\n",
       "\\item 'K'\n",
       "\\item 'dthDays'\n",
       "\\item 'dthStat'\n",
       "\\item 'study'\n",
       "\\item 'studyIDI'\n",
       "\\item 'DIUR'\n",
       "\\item 'CaCB'\n",
       "\\item 'study.1'\n",
       "\\end{enumerate*}\n"
      ],
      "text/markdown": [
       "1. 'person_id'\n",
       "2. 'age'\n",
       "3. 'Sex'\n",
       "4. 'Race'\n",
       "5. 'Race2'\n",
       "6. 'BMI'\n",
       "7. 'weight'\n",
       "8. 'height'\n",
       "9. 'Toba'\n",
       "10. 'Htn'\n",
       "11. 'HxDM'\n",
       "12. 'HxMIStr'\n",
       "13. 'revasc'\n",
       "14. 'BP.s'\n",
       "15. 'BP.d'\n",
       "16. 'LDL'\n",
       "17. 'HDL'\n",
       "18. 'TChol'\n",
       "19. 'Trig'\n",
       "20. 'HMG'\n",
       "21. 'asprin'\n",
       "22. 'antihyp'\n",
       "23. 'MI'\n",
       "24. 'HxStr'\n",
       "25. 'CABG'\n",
       "26. 'PCI'\n",
       "27. 'Loop'\n",
       "28. 'thiazide'\n",
       "29. 'KDiur'\n",
       "30. 'ARB'\n",
       "31. 'AceI'\n",
       "32. 'Dihy'\n",
       "33. 'nonDihy'\n",
       "34. 'BetaB'\n",
       "35. 'rese'\n",
       "36. 'othBPmed'\n",
       "37. 'ONitra'\n",
       "38. 'nslNitrate'\n",
       "39. 'TZD'\n",
       "40. 'VASO'\n",
       "41. 'Cent'\n",
       "42. 'AlphaB'\n",
       "43. 'K'\n",
       "44. 'dthDays'\n",
       "45. 'dthStat'\n",
       "46. 'study'\n",
       "47. 'studyIDI'\n",
       "48. 'DIUR'\n",
       "49. 'CaCB'\n",
       "50. 'study.1'\n",
       "\n",
       "\n"
      ],
      "text/plain": [
       " [1] \"person_id\"  \"age\"        \"Sex\"        \"Race\"       \"Race2\"     \n",
       " [6] \"BMI\"        \"weight\"     \"height\"     \"Toba\"       \"Htn\"       \n",
       "[11] \"HxDM\"       \"HxMIStr\"    \"revasc\"     \"BP.s\"       \"BP.d\"      \n",
       "[16] \"LDL\"        \"HDL\"        \"TChol\"      \"Trig\"       \"HMG\"       \n",
       "[21] \"asprin\"     \"antihyp\"    \"MI\"         \"HxStr\"      \"CABG\"      \n",
       "[26] \"PCI\"        \"Loop\"       \"thiazide\"   \"KDiur\"      \"ARB\"       \n",
       "[31] \"AceI\"       \"Dihy\"       \"nonDihy\"    \"BetaB\"      \"rese\"      \n",
       "[36] \"othBPmed\"   \"ONitra\"     \"nslNitrate\" \"TZD\"        \"VASO\"      \n",
       "[41] \"Cent\"       \"AlphaB\"     \"K\"          \"dthDays\"    \"dthStat\"   \n",
       "[46] \"study\"      \"studyIDI\"   \"DIUR\"       \"CaCB\"       \"study.1\"   "
      ]
     },
     "metadata": {},
     "output_type": "display_data"
    },
    {
     "data": {
      "text/html": [
       "24316"
      ],
      "text/latex": [
       "24316"
      ],
      "text/markdown": [
       "24316"
      ],
      "text/plain": [
       "[1] 24316"
      ]
     },
     "metadata": {},
     "output_type": "display_data"
    },
    {
     "data": {
      "text/plain": [
       "\n",
       "ALLHAT \n",
       " 24316 "
      ]
     },
     "metadata": {},
     "output_type": "display_data"
    }
   ],
   "source": [
    "colnames(allhat)\n",
    "nrow(allhat)\n",
    "table(allhat$study.1)"
   ]
  },
  {
   "cell_type": "code",
   "execution_count": 15,
   "metadata": {},
   "outputs": [
    {
     "data": {
      "text/html": [
       "<ol class=list-inline>\n",
       "\t<li>'person_id'</li>\n",
       "\t<li>'age'</li>\n",
       "\t<li>'Sex'</li>\n",
       "\t<li>'Race'</li>\n",
       "\t<li>'Race2'</li>\n",
       "\t<li>'BMI'</li>\n",
       "\t<li>'weight'</li>\n",
       "\t<li>'height'</li>\n",
       "\t<li>'Toba'</li>\n",
       "\t<li>'Htn'</li>\n",
       "\t<li>'HxDM'</li>\n",
       "\t<li>'HxMIStr'</li>\n",
       "\t<li>'revasc'</li>\n",
       "\t<li>'BP.s'</li>\n",
       "\t<li>'BP.d'</li>\n",
       "\t<li>'LDL'</li>\n",
       "\t<li>'HDL'</li>\n",
       "\t<li>'TChol'</li>\n",
       "\t<li>'Trig'</li>\n",
       "\t<li>'HMG'</li>\n",
       "\t<li>'asprin'</li>\n",
       "\t<li>'antihyp'</li>\n",
       "\t<li>'MI'</li>\n",
       "\t<li>'HxStr'</li>\n",
       "\t<li>'CABG'</li>\n",
       "\t<li>'PCI'</li>\n",
       "\t<li>'Loop'</li>\n",
       "\t<li>'thiazide'</li>\n",
       "\t<li>'KDiur'</li>\n",
       "\t<li>'ARB'</li>\n",
       "\t<li>'AceI'</li>\n",
       "\t<li>'Dihy'</li>\n",
       "\t<li>'nonDihy'</li>\n",
       "\t<li>'BetaB'</li>\n",
       "\t<li>'rese'</li>\n",
       "\t<li>'othBPmed'</li>\n",
       "\t<li>'ONitra'</li>\n",
       "\t<li>'nslNitrate'</li>\n",
       "\t<li>'TZD'</li>\n",
       "\t<li>'VASO'</li>\n",
       "\t<li>'Cent'</li>\n",
       "\t<li>'AlphaB'</li>\n",
       "\t<li>'K'</li>\n",
       "\t<li>'dthDays'</li>\n",
       "\t<li>'dthStat'</li>\n",
       "\t<li>'study'</li>\n",
       "\t<li>'studyIDI'</li>\n",
       "\t<li>'DIUR'</li>\n",
       "\t<li>'CaCB'</li>\n",
       "\t<li>'study.1'</li>\n",
       "</ol>\n"
      ],
      "text/latex": [
       "\\begin{enumerate*}\n",
       "\\item 'person\\_id'\n",
       "\\item 'age'\n",
       "\\item 'Sex'\n",
       "\\item 'Race'\n",
       "\\item 'Race2'\n",
       "\\item 'BMI'\n",
       "\\item 'weight'\n",
       "\\item 'height'\n",
       "\\item 'Toba'\n",
       "\\item 'Htn'\n",
       "\\item 'HxDM'\n",
       "\\item 'HxMIStr'\n",
       "\\item 'revasc'\n",
       "\\item 'BP.s'\n",
       "\\item 'BP.d'\n",
       "\\item 'LDL'\n",
       "\\item 'HDL'\n",
       "\\item 'TChol'\n",
       "\\item 'Trig'\n",
       "\\item 'HMG'\n",
       "\\item 'asprin'\n",
       "\\item 'antihyp'\n",
       "\\item 'MI'\n",
       "\\item 'HxStr'\n",
       "\\item 'CABG'\n",
       "\\item 'PCI'\n",
       "\\item 'Loop'\n",
       "\\item 'thiazide'\n",
       "\\item 'KDiur'\n",
       "\\item 'ARB'\n",
       "\\item 'AceI'\n",
       "\\item 'Dihy'\n",
       "\\item 'nonDihy'\n",
       "\\item 'BetaB'\n",
       "\\item 'rese'\n",
       "\\item 'othBPmed'\n",
       "\\item 'ONitra'\n",
       "\\item 'nslNitrate'\n",
       "\\item 'TZD'\n",
       "\\item 'VASO'\n",
       "\\item 'Cent'\n",
       "\\item 'AlphaB'\n",
       "\\item 'K'\n",
       "\\item 'dthDays'\n",
       "\\item 'dthStat'\n",
       "\\item 'study'\n",
       "\\item 'studyIDI'\n",
       "\\item 'DIUR'\n",
       "\\item 'CaCB'\n",
       "\\item 'study.1'\n",
       "\\end{enumerate*}\n"
      ],
      "text/markdown": [
       "1. 'person_id'\n",
       "2. 'age'\n",
       "3. 'Sex'\n",
       "4. 'Race'\n",
       "5. 'Race2'\n",
       "6. 'BMI'\n",
       "7. 'weight'\n",
       "8. 'height'\n",
       "9. 'Toba'\n",
       "10. 'Htn'\n",
       "11. 'HxDM'\n",
       "12. 'HxMIStr'\n",
       "13. 'revasc'\n",
       "14. 'BP.s'\n",
       "15. 'BP.d'\n",
       "16. 'LDL'\n",
       "17. 'HDL'\n",
       "18. 'TChol'\n",
       "19. 'Trig'\n",
       "20. 'HMG'\n",
       "21. 'asprin'\n",
       "22. 'antihyp'\n",
       "23. 'MI'\n",
       "24. 'HxStr'\n",
       "25. 'CABG'\n",
       "26. 'PCI'\n",
       "27. 'Loop'\n",
       "28. 'thiazide'\n",
       "29. 'KDiur'\n",
       "30. 'ARB'\n",
       "31. 'AceI'\n",
       "32. 'Dihy'\n",
       "33. 'nonDihy'\n",
       "34. 'BetaB'\n",
       "35. 'rese'\n",
       "36. 'othBPmed'\n",
       "37. 'ONitra'\n",
       "38. 'nslNitrate'\n",
       "39. 'TZD'\n",
       "40. 'VASO'\n",
       "41. 'Cent'\n",
       "42. 'AlphaB'\n",
       "43. 'K'\n",
       "44. 'dthDays'\n",
       "45. 'dthStat'\n",
       "46. 'study'\n",
       "47. 'studyIDI'\n",
       "48. 'DIUR'\n",
       "49. 'CaCB'\n",
       "50. 'study.1'\n",
       "\n",
       "\n"
      ],
      "text/plain": [
       " [1] \"person_id\"  \"age\"        \"Sex\"        \"Race\"       \"Race2\"     \n",
       " [6] \"BMI\"        \"weight\"     \"height\"     \"Toba\"       \"Htn\"       \n",
       "[11] \"HxDM\"       \"HxMIStr\"    \"revasc\"     \"BP.s\"       \"BP.d\"      \n",
       "[16] \"LDL\"        \"HDL\"        \"TChol\"      \"Trig\"       \"HMG\"       \n",
       "[21] \"asprin\"     \"antihyp\"    \"MI\"         \"HxStr\"      \"CABG\"      \n",
       "[26] \"PCI\"        \"Loop\"       \"thiazide\"   \"KDiur\"      \"ARB\"       \n",
       "[31] \"AceI\"       \"Dihy\"       \"nonDihy\"    \"BetaB\"      \"rese\"      \n",
       "[36] \"othBPmed\"   \"ONitra\"     \"nslNitrate\" \"TZD\"        \"VASO\"      \n",
       "[41] \"Cent\"       \"AlphaB\"     \"K\"          \"dthDays\"    \"dthStat\"   \n",
       "[46] \"study\"      \"studyIDI\"   \"DIUR\"       \"CaCB\"       \"study.1\"   "
      ]
     },
     "metadata": {},
     "output_type": "display_data"
    },
    {
     "data": {
      "text/html": [
       "2368"
      ],
      "text/latex": [
       "2368"
      ],
      "text/markdown": [
       "2368"
      ],
      "text/plain": [
       "[1] 2368"
      ]
     },
     "metadata": {},
     "output_type": "display_data"
    },
    {
     "data": {
      "text/plain": [
       "\n",
       "BARI2D \n",
       "  2368 "
      ]
     },
     "metadata": {},
     "output_type": "display_data"
    }
   ],
   "source": [
    "colnames(bari)\n",
    "nrow(bari)\n",
    "table(bari$study.1)"
   ]
  },
  {
   "cell_type": "code",
   "execution_count": 6,
   "metadata": {},
   "outputs": [
    {
     "data": {
      "text/html": [
       "<table>\n",
       "<thead><tr><th scope=col>person_id</th><th scope=col>age</th><th scope=col>Sex</th><th scope=col>Race</th><th scope=col>Race2</th><th scope=col>BMI</th><th scope=col>weight</th><th scope=col>height</th><th scope=col>Toba</th><th scope=col>Htn</th><th scope=col>⋯</th><th scope=col>Cent</th><th scope=col>AlphaB</th><th scope=col>K</th><th scope=col>dthDays</th><th scope=col>dthStat</th><th scope=col>study</th><th scope=col>studyIDI</th><th scope=col>DIUR</th><th scope=col>CaCB</th><th scope=col>study.1</th></tr></thead>\n",
       "<tbody>\n",
       "\t<tr><td>22002848</td><td>57      </td><td>1       </td><td>8       </td><td>1       </td><td>31.1    </td><td>90      </td><td>170     </td><td>0       </td><td>1       </td><td>⋯       </td><td>NA      </td><td>NA      </td><td>NA      </td><td>1467    </td><td>NA      </td><td>AIMHIGH </td><td>2848    </td><td>0       </td><td>0       </td><td>AIMHIGH </td></tr>\n",
       "\t<tr><td>22003565</td><td>68      </td><td>1       </td><td>3       </td><td>1       </td><td>33.8    </td><td>76      </td><td>150     </td><td>0       </td><td>0       </td><td>⋯       </td><td>NA      </td><td>NA      </td><td>NA      </td><td>  NA    </td><td>NA      </td><td>AIMHIGH </td><td>3565    </td><td>0       </td><td>0       </td><td>AIMHIGH </td></tr>\n",
       "\t<tr><td>22002026</td><td>60      </td><td>1       </td><td>3       </td><td>1       </td><td>28.4    </td><td>87      </td><td>175     </td><td>0       </td><td>0       </td><td>⋯       </td><td>NA      </td><td>NA      </td><td>NA      </td><td>1546    </td><td>NA      </td><td>AIMHIGH </td><td>2026    </td><td>0       </td><td>1       </td><td>AIMHIGH </td></tr>\n",
       "\t<tr><td>22006158</td><td>71      </td><td>1       </td><td>3       </td><td>1       </td><td>28.4    </td><td>85      </td><td>173     </td><td>0       </td><td>1       </td><td>⋯       </td><td>NA      </td><td>NA      </td><td>NA      </td><td> 498    </td><td> 1      </td><td>AIMHIGH </td><td>6158    </td><td>1       </td><td>1       </td><td>AIMHIGH </td></tr>\n",
       "\t<tr><td>22002409</td><td>53      </td><td>2       </td><td>3       </td><td>1       </td><td>31.9    </td><td>90      </td><td>168     </td><td>0       </td><td>0       </td><td>⋯       </td><td>NA      </td><td>NA      </td><td>NA      </td><td>1469    </td><td>NA      </td><td>AIMHIGH </td><td>2409    </td><td>0       </td><td>0       </td><td>AIMHIGH </td></tr>\n",
       "\t<tr><td>22000264</td><td>58      </td><td>1       </td><td>3       </td><td>1       </td><td>26.5    </td><td>84      </td><td>178     </td><td>0       </td><td>0       </td><td>⋯       </td><td>NA      </td><td>NA      </td><td>NA      </td><td>1870    </td><td>NA      </td><td>AIMHIGH </td><td> 264    </td><td>1       </td><td>0       </td><td>AIMHIGH </td></tr>\n",
       "</tbody>\n",
       "</table>\n"
      ],
      "text/latex": [
       "\\begin{tabular}{r|llllllllllllllllllllllllllllllllllllllllllllllllll}\n",
       " person\\_id & age & Sex & Race & Race2 & BMI & weight & height & Toba & Htn & ⋯ & Cent & AlphaB & K & dthDays & dthStat & study & studyIDI & DIUR & CaCB & study.1\\\\\n",
       "\\hline\n",
       "\t 22002848 & 57       & 1        & 8        & 1        & 31.1     & 90       & 170      & 0        & 1        & ⋯        & NA       & NA       & NA       & 1467     & NA       & AIMHIGH  & 2848     & 0        & 0        & AIMHIGH \\\\\n",
       "\t 22003565 & 68       & 1        & 3        & 1        & 33.8     & 76       & 150      & 0        & 0        & ⋯        & NA       & NA       & NA       &   NA     & NA       & AIMHIGH  & 3565     & 0        & 0        & AIMHIGH \\\\\n",
       "\t 22002026 & 60       & 1        & 3        & 1        & 28.4     & 87       & 175      & 0        & 0        & ⋯        & NA       & NA       & NA       & 1546     & NA       & AIMHIGH  & 2026     & 0        & 1        & AIMHIGH \\\\\n",
       "\t 22006158 & 71       & 1        & 3        & 1        & 28.4     & 85       & 173      & 0        & 1        & ⋯        & NA       & NA       & NA       &  498     &  1       & AIMHIGH  & 6158     & 1        & 1        & AIMHIGH \\\\\n",
       "\t 22002409 & 53       & 2        & 3        & 1        & 31.9     & 90       & 168      & 0        & 0        & ⋯        & NA       & NA       & NA       & 1469     & NA       & AIMHIGH  & 2409     & 0        & 0        & AIMHIGH \\\\\n",
       "\t 22000264 & 58       & 1        & 3        & 1        & 26.5     & 84       & 178      & 0        & 0        & ⋯        & NA       & NA       & NA       & 1870     & NA       & AIMHIGH  &  264     & 1        & 0        & AIMHIGH \\\\\n",
       "\\end{tabular}\n"
      ],
      "text/markdown": [
       "\n",
       "person_id | age | Sex | Race | Race2 | BMI | weight | height | Toba | Htn | ⋯ | Cent | AlphaB | K | dthDays | dthStat | study | studyIDI | DIUR | CaCB | study.1 | \n",
       "|---|---|---|---|---|---|\n",
       "| 22002848 | 57       | 1        | 8        | 1        | 31.1     | 90       | 170      | 0        | 1        | ⋯        | NA       | NA       | NA       | 1467     | NA       | AIMHIGH  | 2848     | 0        | 0        | AIMHIGH  | \n",
       "| 22003565 | 68       | 1        | 3        | 1        | 33.8     | 76       | 150      | 0        | 0        | ⋯        | NA       | NA       | NA       |   NA     | NA       | AIMHIGH  | 3565     | 0        | 0        | AIMHIGH  | \n",
       "| 22002026 | 60       | 1        | 3        | 1        | 28.4     | 87       | 175      | 0        | 0        | ⋯        | NA       | NA       | NA       | 1546     | NA       | AIMHIGH  | 2026     | 0        | 1        | AIMHIGH  | \n",
       "| 22006158 | 71       | 1        | 3        | 1        | 28.4     | 85       | 173      | 0        | 1        | ⋯        | NA       | NA       | NA       |  498     |  1       | AIMHIGH  | 6158     | 1        | 1        | AIMHIGH  | \n",
       "| 22002409 | 53       | 2        | 3        | 1        | 31.9     | 90       | 168      | 0        | 0        | ⋯        | NA       | NA       | NA       | 1469     | NA       | AIMHIGH  | 2409     | 0        | 0        | AIMHIGH  | \n",
       "| 22000264 | 58       | 1        | 3        | 1        | 26.5     | 84       | 178      | 0        | 0        | ⋯        | NA       | NA       | NA       | 1870     | NA       | AIMHIGH  |  264     | 1        | 0        | AIMHIGH  | \n",
       "\n",
       "\n"
      ],
      "text/plain": [
       "  person_id age Sex Race Race2 BMI  weight height Toba Htn ⋯ Cent AlphaB K \n",
       "1 22002848  57  1   8    1     31.1 90     170    0    1   ⋯ NA   NA     NA\n",
       "2 22003565  68  1   3    1     33.8 76     150    0    0   ⋯ NA   NA     NA\n",
       "3 22002026  60  1   3    1     28.4 87     175    0    0   ⋯ NA   NA     NA\n",
       "4 22006158  71  1   3    1     28.4 85     173    0    1   ⋯ NA   NA     NA\n",
       "5 22002409  53  2   3    1     31.9 90     168    0    0   ⋯ NA   NA     NA\n",
       "6 22000264  58  1   3    1     26.5 84     178    0    0   ⋯ NA   NA     NA\n",
       "  dthDays dthStat study   studyIDI DIUR CaCB study.1\n",
       "1 1467    NA      AIMHIGH 2848     0    0    AIMHIGH\n",
       "2   NA    NA      AIMHIGH 3565     0    0    AIMHIGH\n",
       "3 1546    NA      AIMHIGH 2026     0    1    AIMHIGH\n",
       "4  498     1      AIMHIGH 6158     1    1    AIMHIGH\n",
       "5 1469    NA      AIMHIGH 2409     0    0    AIMHIGH\n",
       "6 1870    NA      AIMHIGH  264     1    0    AIMHIGH"
      ]
     },
     "metadata": {},
     "output_type": "display_data"
    }
   ],
   "source": [
    "head(aimhigh)"
   ]
  },
  {
   "cell_type": "code",
   "execution_count": 3,
   "metadata": {},
   "outputs": [],
   "source": [
    "dat=rbind(aimhigh, allhat) %>% rbind(accord) %>% rbind(bari)\n",
    "#head(dat)\n",
    "#table(dat$study.1, useNA=\"ifany\")\n",
    "#table(dat$antihyp)\n",
    "#nrow(dat)\n",
    "#summary(dat$BP.s)\n",
    "#table(dat$dthStat, dat$study.1, useNA=\"ifany\")"
   ]
  },
  {
   "cell_type": "code",
   "execution_count": 24,
   "metadata": {},
   "outputs": [
    {
     "data": {
      "text/html": [
       "0"
      ],
      "text/latex": [
       "0"
      ],
      "text/markdown": [
       "0"
      ],
      "text/plain": [
       "[1] 0"
      ]
     },
     "metadata": {},
     "output_type": "display_data"
    }
   ],
   "source": [
    "#missing=subset(dat, person_id==NA)\n",
    "#nrow(missing)"
   ]
  },
  {
   "cell_type": "code",
   "execution_count": 4,
   "metadata": {},
   "outputs": [],
   "source": [
    "hyp=subset(dat, BP.s>=130 | BP.d>=80 | Htn==1 | antihyp==1)\n",
    "\n",
    "hyp$type_hyp=ifelse(hyp$BP.s>=130 & hyp$BP.d<80, 'Systolic',\n",
    "    ifelse(hyp$BP.s<130 & hyp$BP.d>=80,'Diastiolic',\n",
    "           ifelse(hyp$BP.s>=130 & hyp$BP.d>=80,'Both','Controlled')))\n",
    "#table(hyp$Htn, hyp$study.1, useNA=\"ifany\")\n",
    "hyp$Htn=ifelse(is.na(hyp$Htn) & hyp$study.1=='ACCORD', 0, hyp$Htn)\n",
    "#table(hyp$Htn, hyp$study.1, useNA=\"ifany\")"
   ]
  },
  {
   "cell_type": "code",
   "execution_count": 5,
   "metadata": {},
   "outputs": [
    {
     "data": {
      "text/html": [
       "<table>\n",
       "<thead><tr><th scope=col>study.1</th><th scope=col>days_mean</th><th scope=col>days_median</th><th scope=col>min_days</th><th scope=col>max_days</th></tr></thead>\n",
       "<tbody>\n",
       "\t<tr><td>AIMHIGH   </td><td>1215.670  </td><td>1229.000  </td><td>0.00000000</td><td>1985.00   </td></tr>\n",
       "\t<tr><td>ALLHAT    </td><td>1188.524  </td><td>1157.500  </td><td>0.00000000</td><td>2177.00   </td></tr>\n",
       "\t<tr><td>ACCORD    </td><td>1795.318  </td><td>1818.711  </td><td>0.04166666</td><td>2556.75   </td></tr>\n",
       "\t<tr><td>BARI2D    </td><td>1802.079  </td><td>1828.000  </td><td>1.00000000</td><td>2840.00   </td></tr>\n",
       "</tbody>\n",
       "</table>\n"
      ],
      "text/latex": [
       "\\begin{tabular}{r|lllll}\n",
       " study.1 & days\\_mean & days\\_median & min\\_days & max\\_days\\\\\n",
       "\\hline\n",
       "\t AIMHIGH    & 1215.670   & 1229.000   & 0.00000000 & 1985.00   \\\\\n",
       "\t ALLHAT     & 1188.524   & 1157.500   & 0.00000000 & 2177.00   \\\\\n",
       "\t ACCORD     & 1795.318   & 1818.711   & 0.04166666 & 2556.75   \\\\\n",
       "\t BARI2D     & 1802.079   & 1828.000   & 1.00000000 & 2840.00   \\\\\n",
       "\\end{tabular}\n"
      ],
      "text/markdown": [
       "\n",
       "study.1 | days_mean | days_median | min_days | max_days | \n",
       "|---|---|---|---|\n",
       "| AIMHIGH    | 1215.670   | 1229.000   | 0.00000000 | 1985.00    | \n",
       "| ALLHAT     | 1188.524   | 1157.500   | 0.00000000 | 2177.00    | \n",
       "| ACCORD     | 1795.318   | 1818.711   | 0.04166666 | 2556.75    | \n",
       "| BARI2D     | 1802.079   | 1828.000   | 1.00000000 | 2840.00    | \n",
       "\n",
       "\n"
      ],
      "text/plain": [
       "  study.1 days_mean days_median min_days   max_days\n",
       "1 AIMHIGH 1215.670  1229.000    0.00000000 1985.00 \n",
       "2 ALLHAT  1188.524  1157.500    0.00000000 2177.00 \n",
       "3 ACCORD  1795.318  1818.711    0.04166666 2556.75 \n",
       "4 BARI2D  1802.079  1828.000    1.00000000 2840.00 "
      ]
     },
     "metadata": {},
     "output_type": "display_data"
    },
    {
     "data": {
      "text/html": [
       "<table>\n",
       "<thead><tr><th scope=col>study.1</th><th scope=col>days_mean</th><th scope=col>days_median</th><th scope=col>min_days</th><th scope=col>max_days</th></tr></thead>\n",
       "<tbody>\n",
       "\t<tr><td>AIMHIGH   </td><td>1215.671  </td><td>1229.000  </td><td>0.10000000</td><td>1985.00   </td></tr>\n",
       "\t<tr><td>ALLHAT    </td><td>1188.524  </td><td>1157.500  </td><td>0.10000000</td><td>2177.00   </td></tr>\n",
       "\t<tr><td>ACCORD    </td><td>1795.318  </td><td>1818.711  </td><td>0.04166666</td><td>2556.75   </td></tr>\n",
       "\t<tr><td>BARI2D    </td><td>1802.079  </td><td>1828.000  </td><td>1.00000000</td><td>2840.00   </td></tr>\n",
       "</tbody>\n",
       "</table>\n"
      ],
      "text/latex": [
       "\\begin{tabular}{r|lllll}\n",
       " study.1 & days\\_mean & days\\_median & min\\_days & max\\_days\\\\\n",
       "\\hline\n",
       "\t AIMHIGH    & 1215.671   & 1229.000   & 0.10000000 & 1985.00   \\\\\n",
       "\t ALLHAT     & 1188.524   & 1157.500   & 0.10000000 & 2177.00   \\\\\n",
       "\t ACCORD     & 1795.318   & 1818.711   & 0.04166666 & 2556.75   \\\\\n",
       "\t BARI2D     & 1802.079   & 1828.000   & 1.00000000 & 2840.00   \\\\\n",
       "\\end{tabular}\n"
      ],
      "text/markdown": [
       "\n",
       "study.1 | days_mean | days_median | min_days | max_days | \n",
       "|---|---|---|---|\n",
       "| AIMHIGH    | 1215.671   | 1229.000   | 0.10000000 | 1985.00    | \n",
       "| ALLHAT     | 1188.524   | 1157.500   | 0.10000000 | 2177.00    | \n",
       "| ACCORD     | 1795.318   | 1818.711   | 0.04166666 | 2556.75    | \n",
       "| BARI2D     | 1802.079   | 1828.000   | 1.00000000 | 2840.00    | \n",
       "\n",
       "\n"
      ],
      "text/plain": [
       "  study.1 days_mean days_median min_days   max_days\n",
       "1 AIMHIGH 1215.671  1229.000    0.10000000 1985.00 \n",
       "2 ALLHAT  1188.524  1157.500    0.10000000 2177.00 \n",
       "3 ACCORD  1795.318  1818.711    0.04166666 2556.75 \n",
       "4 BARI2D  1802.079  1828.000    1.00000000 2840.00 "
      ]
     },
     "metadata": {},
     "output_type": "display_data"
    }
   ],
   "source": [
    "hyp$dthStat=ifelse(is.na(hyp$dthStat) & hyp$study.1=='AIMHIGH', 0, hyp$dthStat)\n",
    "hyp$dthStat=ifelse(hyp$study.1=='ACCORD', 1-hyp$dthStat, hyp$dthStat)\n",
    "#https://stackoverflow.com/questions/23479512/stratified-random-sampling-from-data-frame\n",
    "\n",
    "hyp %>%\n",
    "    select(study.1, BP.s, BP.d, dthDays) %>%\n",
    "    group_by(study.1) %>%\n",
    "    summarise(days_mean = mean(dthDays, na.rm=T), days_median = median(dthDays, na.rm=T), min_days=min(dthDays, na.rm=T), max_days=max(dthDays, na.rm=T))\n",
    "\n",
    "#1825 max days - censor for 5 year death\n",
    "hyp$death = ifelse(hyp$dthDays>1825, 0, hyp$dthStat)\n",
    "hyp$tdeath = ifelse(hyp$dthDays>1825, 1825, hyp$dthDays)\n",
    "hyp$tdeath = ifelse(hyp$dthDays==0, 0.1, hyp$dthDays)\n",
    "hyp %>%\n",
    "    select(study.1, BP.s, BP.d, tdeath) %>%\n",
    "    group_by(study.1) %>%\n",
    "    summarise(days_mean = mean(tdeath, na.rm=T), days_median = median(tdeath, na.rm=T), min_days=min(tdeath, na.rm=T), max_days=max(tdeath, na.rm=T))\n"
   ]
  },
  {
   "cell_type": "code",
   "execution_count": 6,
   "metadata": {},
   "outputs": [
    {
     "data": {
      "text/html": [
       "<table>\n",
       "<thead><tr><th scope=col>study.1</th><th scope=col>person_id</th><th scope=col>train</th></tr></thead>\n",
       "<tbody>\n",
       "\t<tr><td>AIMHIGH </td><td>22006737</td><td>1       </td></tr>\n",
       "\t<tr><td>AIMHIGH </td><td>22004066</td><td>1       </td></tr>\n",
       "\t<tr><td>AIMHIGH </td><td>22001750</td><td>1       </td></tr>\n",
       "\t<tr><td>AIMHIGH </td><td>22002919</td><td>1       </td></tr>\n",
       "\t<tr><td>AIMHIGH </td><td>22006172</td><td>1       </td></tr>\n",
       "\t<tr><td>AIMHIGH </td><td>22007348</td><td>1       </td></tr>\n",
       "</tbody>\n",
       "</table>\n"
      ],
      "text/latex": [
       "\\begin{tabular}{r|lll}\n",
       " study.1 & person\\_id & train\\\\\n",
       "\\hline\n",
       "\t AIMHIGH  & 22006737 & 1       \\\\\n",
       "\t AIMHIGH  & 22004066 & 1       \\\\\n",
       "\t AIMHIGH  & 22001750 & 1       \\\\\n",
       "\t AIMHIGH  & 22002919 & 1       \\\\\n",
       "\t AIMHIGH  & 22006172 & 1       \\\\\n",
       "\t AIMHIGH  & 22007348 & 1       \\\\\n",
       "\\end{tabular}\n"
      ],
      "text/markdown": [
       "\n",
       "study.1 | person_id | train | \n",
       "|---|---|---|---|---|---|\n",
       "| AIMHIGH  | 22006737 | 1        | \n",
       "| AIMHIGH  | 22004066 | 1        | \n",
       "| AIMHIGH  | 22001750 | 1        | \n",
       "| AIMHIGH  | 22002919 | 1        | \n",
       "| AIMHIGH  | 22006172 | 1        | \n",
       "| AIMHIGH  | 22007348 | 1        | \n",
       "\n",
       "\n"
      ],
      "text/plain": [
       "  study.1 person_id train\n",
       "1 AIMHIGH 22006737  1    \n",
       "2 AIMHIGH 22004066  1    \n",
       "3 AIMHIGH 22001750  1    \n",
       "4 AIMHIGH 22002919  1    \n",
       "5 AIMHIGH 22006172  1    \n",
       "6 AIMHIGH 22007348  1    "
      ]
     },
     "metadata": {},
     "output_type": "display_data"
    },
    {
     "data": {
      "text/html": [
       "<table>\n",
       "<thead><tr><th scope=col>study.1</th><th scope=col>person_id</th><th scope=col>test</th></tr></thead>\n",
       "<tbody>\n",
       "\t<tr><td>AIMHIGH </td><td>22003565</td><td>1       </td></tr>\n",
       "\t<tr><td>AIMHIGH </td><td>22002265</td><td>1       </td></tr>\n",
       "\t<tr><td>AIMHIGH </td><td>22006755</td><td>1       </td></tr>\n",
       "\t<tr><td>AIMHIGH </td><td>22003652</td><td>1       </td></tr>\n",
       "\t<tr><td>AIMHIGH </td><td>22005161</td><td>1       </td></tr>\n",
       "\t<tr><td>AIMHIGH </td><td>22000359</td><td>1       </td></tr>\n",
       "</tbody>\n",
       "</table>\n"
      ],
      "text/latex": [
       "\\begin{tabular}{r|lll}\n",
       " study.1 & person\\_id & test\\\\\n",
       "\\hline\n",
       "\t AIMHIGH  & 22003565 & 1       \\\\\n",
       "\t AIMHIGH  & 22002265 & 1       \\\\\n",
       "\t AIMHIGH  & 22006755 & 1       \\\\\n",
       "\t AIMHIGH  & 22003652 & 1       \\\\\n",
       "\t AIMHIGH  & 22005161 & 1       \\\\\n",
       "\t AIMHIGH  & 22000359 & 1       \\\\\n",
       "\\end{tabular}\n"
      ],
      "text/markdown": [
       "\n",
       "study.1 | person_id | test | \n",
       "|---|---|---|---|---|---|\n",
       "| AIMHIGH  | 22003565 | 1        | \n",
       "| AIMHIGH  | 22002265 | 1        | \n",
       "| AIMHIGH  | 22006755 | 1        | \n",
       "| AIMHIGH  | 22003652 | 1        | \n",
       "| AIMHIGH  | 22005161 | 1        | \n",
       "| AIMHIGH  | 22000359 | 1        | \n",
       "\n",
       "\n"
      ],
      "text/plain": [
       "  study.1 person_id test\n",
       "1 AIMHIGH 22003565  1   \n",
       "2 AIMHIGH 22002265  1   \n",
       "3 AIMHIGH 22006755  1   \n",
       "4 AIMHIGH 22003652  1   \n",
       "5 AIMHIGH 22005161  1   \n",
       "6 AIMHIGH 22000359  1   "
      ]
     },
     "metadata": {},
     "output_type": "display_data"
    },
    {
     "data": {
      "text/html": [
       "30514"
      ],
      "text/latex": [
       "30514"
      ],
      "text/markdown": [
       "30514"
      ],
      "text/plain": [
       "[1] 30514"
      ]
     },
     "metadata": {},
     "output_type": "display_data"
    },
    {
     "data": {
      "text/html": [
       "10171"
      ],
      "text/latex": [
       "10171"
      ],
      "text/markdown": [
       "10171"
      ],
      "text/plain": [
       "[1] 10171"
      ]
     },
     "metadata": {},
     "output_type": "display_data"
    }
   ],
   "source": [
    "set.seed(150)\n",
    "train <- hyp %>% \n",
    "    select(study.1, person_id) %>%\n",
    "    group_by(study.1) %>%\n",
    "    sample_frac(0.75)\n",
    "\n",
    "test <- hyp %>%\n",
    "    select(study.1, person_id) %>%\n",
    "   filter(!person_id %in% train$person_id)\n",
    "\n",
    "train$train=1\n",
    "test$test=1\n",
    "\n",
    "\n",
    "head(train)\n",
    "head(test)\n",
    "nrow(train)\n",
    "nrow(test)"
   ]
  },
  {
   "cell_type": "code",
   "execution_count": 7,
   "metadata": {},
   "outputs": [
    {
     "data": {
      "text/html": [
       "<table>\n",
       "<thead><tr><th scope=col>person_id</th><th scope=col>age</th><th scope=col>Sex</th><th scope=col>Race</th><th scope=col>Race2</th><th scope=col>BMI</th><th scope=col>weight</th><th scope=col>height</th><th scope=col>Toba</th><th scope=col>Htn</th><th scope=col>⋯</th><th scope=col>dthDays</th><th scope=col>dthStat</th><th scope=col>study</th><th scope=col>studyIDI</th><th scope=col>DIUR</th><th scope=col>CaCB</th><th scope=col>study.1</th><th scope=col>type_hyp</th><th scope=col>death</th><th scope=col>tdeath</th></tr></thead>\n",
       "<tbody>\n",
       "\t<tr><td>22002848  </td><td>57        </td><td>1         </td><td>8         </td><td>1         </td><td>31.1      </td><td>90        </td><td>170       </td><td>0         </td><td>1         </td><td>⋯         </td><td>1467      </td><td>0         </td><td>AIMHIGH   </td><td>2848      </td><td>0         </td><td>0         </td><td>AIMHIGH   </td><td>Controlled</td><td> 0        </td><td>1467      </td></tr>\n",
       "\t<tr><td>22003565  </td><td>68        </td><td>1         </td><td>3         </td><td>1         </td><td>33.8      </td><td>76        </td><td>150       </td><td>0         </td><td>0         </td><td>⋯         </td><td>  NA      </td><td>0         </td><td>AIMHIGH   </td><td>3565      </td><td>0         </td><td>0         </td><td>AIMHIGH   </td><td>Both      </td><td>NA        </td><td>  NA      </td></tr>\n",
       "\t<tr><td>22002026  </td><td>60        </td><td>1         </td><td>3         </td><td>1         </td><td>28.4      </td><td>87        </td><td>175       </td><td>0         </td><td>0         </td><td>⋯         </td><td>1546      </td><td>0         </td><td>AIMHIGH   </td><td>2026      </td><td>0         </td><td>1         </td><td>AIMHIGH   </td><td>Controlled</td><td> 0        </td><td>1546      </td></tr>\n",
       "\t<tr><td>22006158  </td><td>71        </td><td>1         </td><td>3         </td><td>1         </td><td>28.4      </td><td>85        </td><td>173       </td><td>0         </td><td>1         </td><td>⋯         </td><td> 498      </td><td>1         </td><td>AIMHIGH   </td><td>6158      </td><td>1         </td><td>1         </td><td>AIMHIGH   </td><td>Controlled</td><td> 1        </td><td> 498      </td></tr>\n",
       "\t<tr><td>22002409  </td><td>53        </td><td>2         </td><td>3         </td><td>1         </td><td>31.9      </td><td>90        </td><td>168       </td><td>0         </td><td>0         </td><td>⋯         </td><td>1469      </td><td>0         </td><td>AIMHIGH   </td><td>2409      </td><td>0         </td><td>0         </td><td>AIMHIGH   </td><td>Controlled</td><td> 0        </td><td>1469      </td></tr>\n",
       "\t<tr><td>22000264  </td><td>58        </td><td>1         </td><td>3         </td><td>1         </td><td>26.5      </td><td>84        </td><td>178       </td><td>0         </td><td>0         </td><td>⋯         </td><td>1870      </td><td>0         </td><td>AIMHIGH   </td><td>264       </td><td>1         </td><td>0         </td><td>AIMHIGH   </td><td>Both      </td><td> 0        </td><td>1870      </td></tr>\n",
       "</tbody>\n",
       "</table>\n"
      ],
      "text/latex": [
       "\\begin{tabular}{r|lllllllllllllllllllllllllllllllllllllllllllllllllllll}\n",
       " person\\_id & age & Sex & Race & Race2 & BMI & weight & height & Toba & Htn & ⋯ & dthDays & dthStat & study & studyIDI & DIUR & CaCB & study.1 & type\\_hyp & death & tdeath\\\\\n",
       "\\hline\n",
       "\t 22002848   & 57         & 1          & 8          & 1          & 31.1       & 90         & 170        & 0          & 1          & ⋯          & 1467       & 0          & AIMHIGH    & 2848       & 0          & 0          & AIMHIGH    & Controlled &  0         & 1467      \\\\\n",
       "\t 22003565   & 68         & 1          & 3          & 1          & 33.8       & 76         & 150        & 0          & 0          & ⋯          &   NA       & 0          & AIMHIGH    & 3565       & 0          & 0          & AIMHIGH    & Both       & NA         &   NA      \\\\\n",
       "\t 22002026   & 60         & 1          & 3          & 1          & 28.4       & 87         & 175        & 0          & 0          & ⋯          & 1546       & 0          & AIMHIGH    & 2026       & 0          & 1          & AIMHIGH    & Controlled &  0         & 1546      \\\\\n",
       "\t 22006158   & 71         & 1          & 3          & 1          & 28.4       & 85         & 173        & 0          & 1          & ⋯          &  498       & 1          & AIMHIGH    & 6158       & 1          & 1          & AIMHIGH    & Controlled &  1         &  498      \\\\\n",
       "\t 22002409   & 53         & 2          & 3          & 1          & 31.9       & 90         & 168        & 0          & 0          & ⋯          & 1469       & 0          & AIMHIGH    & 2409       & 0          & 0          & AIMHIGH    & Controlled &  0         & 1469      \\\\\n",
       "\t 22000264   & 58         & 1          & 3          & 1          & 26.5       & 84         & 178        & 0          & 0          & ⋯          & 1870       & 0          & AIMHIGH    & 264        & 1          & 0          & AIMHIGH    & Both       &  0         & 1870      \\\\\n",
       "\\end{tabular}\n"
      ],
      "text/markdown": [
       "\n",
       "person_id | age | Sex | Race | Race2 | BMI | weight | height | Toba | Htn | ⋯ | dthDays | dthStat | study | studyIDI | DIUR | CaCB | study.1 | type_hyp | death | tdeath | \n",
       "|---|---|---|---|---|---|\n",
       "| 22002848   | 57         | 1          | 8          | 1          | 31.1       | 90         | 170        | 0          | 1          | ⋯          | 1467       | 0          | AIMHIGH    | 2848       | 0          | 0          | AIMHIGH    | Controlled |  0         | 1467       | \n",
       "| 22003565   | 68         | 1          | 3          | 1          | 33.8       | 76         | 150        | 0          | 0          | ⋯          |   NA       | 0          | AIMHIGH    | 3565       | 0          | 0          | AIMHIGH    | Both       | NA         |   NA       | \n",
       "| 22002026   | 60         | 1          | 3          | 1          | 28.4       | 87         | 175        | 0          | 0          | ⋯          | 1546       | 0          | AIMHIGH    | 2026       | 0          | 1          | AIMHIGH    | Controlled |  0         | 1546       | \n",
       "| 22006158   | 71         | 1          | 3          | 1          | 28.4       | 85         | 173        | 0          | 1          | ⋯          |  498       | 1          | AIMHIGH    | 6158       | 1          | 1          | AIMHIGH    | Controlled |  1         |  498       | \n",
       "| 22002409   | 53         | 2          | 3          | 1          | 31.9       | 90         | 168        | 0          | 0          | ⋯          | 1469       | 0          | AIMHIGH    | 2409       | 0          | 0          | AIMHIGH    | Controlled |  0         | 1469       | \n",
       "| 22000264   | 58         | 1          | 3          | 1          | 26.5       | 84         | 178        | 0          | 0          | ⋯          | 1870       | 0          | AIMHIGH    | 264        | 1          | 0          | AIMHIGH    | Both       |  0         | 1870       | \n",
       "\n",
       "\n"
      ],
      "text/plain": [
       "  person_id age Sex Race Race2 BMI  weight height Toba Htn ⋯ dthDays dthStat\n",
       "1 22002848  57  1   8    1     31.1 90     170    0    1   ⋯ 1467    0      \n",
       "2 22003565  68  1   3    1     33.8 76     150    0    0   ⋯   NA    0      \n",
       "3 22002026  60  1   3    1     28.4 87     175    0    0   ⋯ 1546    0      \n",
       "4 22006158  71  1   3    1     28.4 85     173    0    1   ⋯  498    1      \n",
       "5 22002409  53  2   3    1     31.9 90     168    0    0   ⋯ 1469    0      \n",
       "6 22000264  58  1   3    1     26.5 84     178    0    0   ⋯ 1870    0      \n",
       "  study   studyIDI DIUR CaCB study.1 type_hyp   death tdeath\n",
       "1 AIMHIGH 2848     0    0    AIMHIGH Controlled  0    1467  \n",
       "2 AIMHIGH 3565     0    0    AIMHIGH Both       NA      NA  \n",
       "3 AIMHIGH 2026     0    1    AIMHIGH Controlled  0    1546  \n",
       "4 AIMHIGH 6158     1    1    AIMHIGH Controlled  1     498  \n",
       "5 AIMHIGH 2409     0    0    AIMHIGH Controlled  0    1469  \n",
       "6 AIMHIGH 264      1    0    AIMHIGH Both        0    1870  "
      ]
     },
     "metadata": {},
     "output_type": "display_data"
    },
    {
     "data": {
      "text/html": [
       "<table>\n",
       "<thead><tr><th scope=col>person_id</th><th scope=col>age</th><th scope=col>Sex</th><th scope=col>Race</th><th scope=col>Race2</th><th scope=col>BMI</th><th scope=col>weight</th><th scope=col>height</th><th scope=col>Toba</th><th scope=col>Htn</th><th scope=col>⋯</th><th scope=col>study</th><th scope=col>studyIDI</th><th scope=col>DIUR</th><th scope=col>CaCB</th><th scope=col>study.1</th><th scope=col>type_hyp</th><th scope=col>death</th><th scope=col>tdeath</th><th scope=col>train</th><th scope=col>test</th></tr></thead>\n",
       "<tbody>\n",
       "\t<tr><td>22002848  </td><td>57        </td><td>1         </td><td>8         </td><td>1         </td><td>31.1      </td><td>90        </td><td>170       </td><td>0         </td><td>1         </td><td>⋯         </td><td>AIMHIGH   </td><td>2848      </td><td>0         </td><td>0         </td><td>AIMHIGH   </td><td>Controlled</td><td> 0        </td><td>1467      </td><td> 1        </td><td>NA        </td></tr>\n",
       "\t<tr><td>22003565  </td><td>68        </td><td>1         </td><td>3         </td><td>1         </td><td>33.8      </td><td>76        </td><td>150       </td><td>0         </td><td>0         </td><td>⋯         </td><td>AIMHIGH   </td><td>3565      </td><td>0         </td><td>0         </td><td>AIMHIGH   </td><td>Both      </td><td>NA        </td><td>  NA      </td><td>NA        </td><td> 1        </td></tr>\n",
       "\t<tr><td>22002026  </td><td>60        </td><td>1         </td><td>3         </td><td>1         </td><td>28.4      </td><td>87        </td><td>175       </td><td>0         </td><td>0         </td><td>⋯         </td><td>AIMHIGH   </td><td>2026      </td><td>0         </td><td>1         </td><td>AIMHIGH   </td><td>Controlled</td><td> 0        </td><td>1546      </td><td> 1        </td><td>NA        </td></tr>\n",
       "\t<tr><td>22006158  </td><td>71        </td><td>1         </td><td>3         </td><td>1         </td><td>28.4      </td><td>85        </td><td>173       </td><td>0         </td><td>1         </td><td>⋯         </td><td>AIMHIGH   </td><td>6158      </td><td>1         </td><td>1         </td><td>AIMHIGH   </td><td>Controlled</td><td> 1        </td><td> 498      </td><td> 1        </td><td>NA        </td></tr>\n",
       "\t<tr><td>22002409  </td><td>53        </td><td>2         </td><td>3         </td><td>1         </td><td>31.9      </td><td>90        </td><td>168       </td><td>0         </td><td>0         </td><td>⋯         </td><td>AIMHIGH   </td><td>2409      </td><td>0         </td><td>0         </td><td>AIMHIGH   </td><td>Controlled</td><td> 0        </td><td>1469      </td><td> 1        </td><td>NA        </td></tr>\n",
       "\t<tr><td>22000264  </td><td>58        </td><td>1         </td><td>3         </td><td>1         </td><td>26.5      </td><td>84        </td><td>178       </td><td>0         </td><td>0         </td><td>⋯         </td><td>AIMHIGH   </td><td>264       </td><td>1         </td><td>0         </td><td>AIMHIGH   </td><td>Both      </td><td> 0        </td><td>1870      </td><td> 1        </td><td>NA        </td></tr>\n",
       "</tbody>\n",
       "</table>\n"
      ],
      "text/latex": [
       "\\begin{tabular}{r|lllllllllllllllllllllllllllllllllllllllllllllllllllllll}\n",
       " person\\_id & age & Sex & Race & Race2 & BMI & weight & height & Toba & Htn & ⋯ & study & studyIDI & DIUR & CaCB & study.1 & type\\_hyp & death & tdeath & train & test\\\\\n",
       "\\hline\n",
       "\t 22002848   & 57         & 1          & 8          & 1          & 31.1       & 90         & 170        & 0          & 1          & ⋯          & AIMHIGH    & 2848       & 0          & 0          & AIMHIGH    & Controlled &  0         & 1467       &  1         & NA        \\\\\n",
       "\t 22003565   & 68         & 1          & 3          & 1          & 33.8       & 76         & 150        & 0          & 0          & ⋯          & AIMHIGH    & 3565       & 0          & 0          & AIMHIGH    & Both       & NA         &   NA       & NA         &  1        \\\\\n",
       "\t 22002026   & 60         & 1          & 3          & 1          & 28.4       & 87         & 175        & 0          & 0          & ⋯          & AIMHIGH    & 2026       & 0          & 1          & AIMHIGH    & Controlled &  0         & 1546       &  1         & NA        \\\\\n",
       "\t 22006158   & 71         & 1          & 3          & 1          & 28.4       & 85         & 173        & 0          & 1          & ⋯          & AIMHIGH    & 6158       & 1          & 1          & AIMHIGH    & Controlled &  1         &  498       &  1         & NA        \\\\\n",
       "\t 22002409   & 53         & 2          & 3          & 1          & 31.9       & 90         & 168        & 0          & 0          & ⋯          & AIMHIGH    & 2409       & 0          & 0          & AIMHIGH    & Controlled &  0         & 1469       &  1         & NA        \\\\\n",
       "\t 22000264   & 58         & 1          & 3          & 1          & 26.5       & 84         & 178        & 0          & 0          & ⋯          & AIMHIGH    & 264        & 1          & 0          & AIMHIGH    & Both       &  0         & 1870       &  1         & NA        \\\\\n",
       "\\end{tabular}\n"
      ],
      "text/markdown": [
       "\n",
       "person_id | age | Sex | Race | Race2 | BMI | weight | height | Toba | Htn | ⋯ | study | studyIDI | DIUR | CaCB | study.1 | type_hyp | death | tdeath | train | test | \n",
       "|---|---|---|---|---|---|\n",
       "| 22002848   | 57         | 1          | 8          | 1          | 31.1       | 90         | 170        | 0          | 1          | ⋯          | AIMHIGH    | 2848       | 0          | 0          | AIMHIGH    | Controlled |  0         | 1467       |  1         | NA         | \n",
       "| 22003565   | 68         | 1          | 3          | 1          | 33.8       | 76         | 150        | 0          | 0          | ⋯          | AIMHIGH    | 3565       | 0          | 0          | AIMHIGH    | Both       | NA         |   NA       | NA         |  1         | \n",
       "| 22002026   | 60         | 1          | 3          | 1          | 28.4       | 87         | 175        | 0          | 0          | ⋯          | AIMHIGH    | 2026       | 0          | 1          | AIMHIGH    | Controlled |  0         | 1546       |  1         | NA         | \n",
       "| 22006158   | 71         | 1          | 3          | 1          | 28.4       | 85         | 173        | 0          | 1          | ⋯          | AIMHIGH    | 6158       | 1          | 1          | AIMHIGH    | Controlled |  1         |  498       |  1         | NA         | \n",
       "| 22002409   | 53         | 2          | 3          | 1          | 31.9       | 90         | 168        | 0          | 0          | ⋯          | AIMHIGH    | 2409       | 0          | 0          | AIMHIGH    | Controlled |  0         | 1469       |  1         | NA         | \n",
       "| 22000264   | 58         | 1          | 3          | 1          | 26.5       | 84         | 178        | 0          | 0          | ⋯          | AIMHIGH    | 264        | 1          | 0          | AIMHIGH    | Both       |  0         | 1870       |  1         | NA         | \n",
       "\n",
       "\n"
      ],
      "text/plain": [
       "  person_id age Sex Race Race2 BMI  weight height Toba Htn ⋯ study   studyIDI\n",
       "1 22002848  57  1   8    1     31.1 90     170    0    1   ⋯ AIMHIGH 2848    \n",
       "2 22003565  68  1   3    1     33.8 76     150    0    0   ⋯ AIMHIGH 3565    \n",
       "3 22002026  60  1   3    1     28.4 87     175    0    0   ⋯ AIMHIGH 2026    \n",
       "4 22006158  71  1   3    1     28.4 85     173    0    1   ⋯ AIMHIGH 6158    \n",
       "5 22002409  53  2   3    1     31.9 90     168    0    0   ⋯ AIMHIGH 2409    \n",
       "6 22000264  58  1   3    1     26.5 84     178    0    0   ⋯ AIMHIGH 264     \n",
       "  DIUR CaCB study.1 type_hyp   death tdeath train test\n",
       "1 0    0    AIMHIGH Controlled  0    1467    1    NA  \n",
       "2 0    0    AIMHIGH Both       NA      NA   NA     1  \n",
       "3 0    1    AIMHIGH Controlled  0    1546    1    NA  \n",
       "4 1    1    AIMHIGH Controlled  1     498    1    NA  \n",
       "5 0    0    AIMHIGH Controlled  0    1469    1    NA  \n",
       "6 1    0    AIMHIGH Both        0    1870    1    NA  "
      ]
     },
     "metadata": {},
     "output_type": "display_data"
    }
   ],
   "source": [
    "head(hyp)\n",
    "final = hyp %>% left_join(train, by=c(\"person_id\",'study.1')) %>% left_join(test, by=c(\"person_id\",'study.1'))\n",
    "head(final)"
   ]
  },
  {
   "cell_type": "code",
   "execution_count": 4,
   "metadata": {},
   "outputs": [
    {
     "data": {
      "text/plain": [
       "\n",
       "AIMHIGH  ALLHAT  ACCORD  BARI2D \n",
       "   4196   24316    9842    2331 "
      ]
     },
     "metadata": {},
     "output_type": "display_data"
    },
    {
     "data": {
      "text/plain": [
       "\n",
       "    0     1 \n",
       " 3797 36887 "
      ]
     },
     "metadata": {},
     "output_type": "display_data"
    },
    {
     "data": {
      "text/plain": [
       "\n",
       "      Both Controlled Diastiolic   Systolic \n",
       "     20592       7766       2114      10134 "
      ]
     },
     "metadata": {},
     "output_type": "display_data"
    },
    {
     "data": {
      "text/html": [
       "<ol class=list-inline>\n",
       "\t<li>'person_id'</li>\n",
       "\t<li>'age'</li>\n",
       "\t<li>'Sex'</li>\n",
       "\t<li>'Race'</li>\n",
       "\t<li>'Race2'</li>\n",
       "\t<li>'BMI'</li>\n",
       "\t<li>'weight'</li>\n",
       "\t<li>'height'</li>\n",
       "\t<li>'Toba'</li>\n",
       "\t<li>'Htn'</li>\n",
       "\t<li>'HxDM'</li>\n",
       "\t<li>'HxMIStr'</li>\n",
       "\t<li>'revasc'</li>\n",
       "\t<li>'BP.s'</li>\n",
       "\t<li>'BP.d'</li>\n",
       "\t<li>'LDL'</li>\n",
       "\t<li>'HDL'</li>\n",
       "\t<li>'TChol'</li>\n",
       "\t<li>'Trig'</li>\n",
       "\t<li>'HMG'</li>\n",
       "\t<li>'asprin'</li>\n",
       "\t<li>'antihyp'</li>\n",
       "\t<li>'MI'</li>\n",
       "\t<li>'HxStr'</li>\n",
       "\t<li>'CABG'</li>\n",
       "\t<li>'PCI'</li>\n",
       "\t<li>'Loop'</li>\n",
       "\t<li>'thiazide'</li>\n",
       "\t<li>'KDiur'</li>\n",
       "\t<li>'ARB'</li>\n",
       "\t<li>'AceI'</li>\n",
       "\t<li>'Dihy'</li>\n",
       "\t<li>'nonDihy'</li>\n",
       "\t<li>'BetaB'</li>\n",
       "\t<li>'rese'</li>\n",
       "\t<li>'othBPmed'</li>\n",
       "\t<li>'ONitra'</li>\n",
       "\t<li>'nslNitrate'</li>\n",
       "\t<li>'TZD'</li>\n",
       "\t<li>'VASO'</li>\n",
       "\t<li>'Cent'</li>\n",
       "\t<li>'AlphaB'</li>\n",
       "\t<li>'K'</li>\n",
       "\t<li>'dthDays'</li>\n",
       "\t<li>'dthStat'</li>\n",
       "\t<li>'study'</li>\n",
       "\t<li>'studyIDI'</li>\n",
       "\t<li>'DIUR'</li>\n",
       "\t<li>'CaCB'</li>\n",
       "\t<li>'study.1'</li>\n",
       "\t<li>'type_hyp'</li>\n",
       "</ol>\n"
      ],
      "text/latex": [
       "\\begin{enumerate*}\n",
       "\\item 'person\\_id'\n",
       "\\item 'age'\n",
       "\\item 'Sex'\n",
       "\\item 'Race'\n",
       "\\item 'Race2'\n",
       "\\item 'BMI'\n",
       "\\item 'weight'\n",
       "\\item 'height'\n",
       "\\item 'Toba'\n",
       "\\item 'Htn'\n",
       "\\item 'HxDM'\n",
       "\\item 'HxMIStr'\n",
       "\\item 'revasc'\n",
       "\\item 'BP.s'\n",
       "\\item 'BP.d'\n",
       "\\item 'LDL'\n",
       "\\item 'HDL'\n",
       "\\item 'TChol'\n",
       "\\item 'Trig'\n",
       "\\item 'HMG'\n",
       "\\item 'asprin'\n",
       "\\item 'antihyp'\n",
       "\\item 'MI'\n",
       "\\item 'HxStr'\n",
       "\\item 'CABG'\n",
       "\\item 'PCI'\n",
       "\\item 'Loop'\n",
       "\\item 'thiazide'\n",
       "\\item 'KDiur'\n",
       "\\item 'ARB'\n",
       "\\item 'AceI'\n",
       "\\item 'Dihy'\n",
       "\\item 'nonDihy'\n",
       "\\item 'BetaB'\n",
       "\\item 'rese'\n",
       "\\item 'othBPmed'\n",
       "\\item 'ONitra'\n",
       "\\item 'nslNitrate'\n",
       "\\item 'TZD'\n",
       "\\item 'VASO'\n",
       "\\item 'Cent'\n",
       "\\item 'AlphaB'\n",
       "\\item 'K'\n",
       "\\item 'dthDays'\n",
       "\\item 'dthStat'\n",
       "\\item 'study'\n",
       "\\item 'studyIDI'\n",
       "\\item 'DIUR'\n",
       "\\item 'CaCB'\n",
       "\\item 'study.1'\n",
       "\\item 'type\\_hyp'\n",
       "\\end{enumerate*}\n"
      ],
      "text/markdown": [
       "1. 'person_id'\n",
       "2. 'age'\n",
       "3. 'Sex'\n",
       "4. 'Race'\n",
       "5. 'Race2'\n",
       "6. 'BMI'\n",
       "7. 'weight'\n",
       "8. 'height'\n",
       "9. 'Toba'\n",
       "10. 'Htn'\n",
       "11. 'HxDM'\n",
       "12. 'HxMIStr'\n",
       "13. 'revasc'\n",
       "14. 'BP.s'\n",
       "15. 'BP.d'\n",
       "16. 'LDL'\n",
       "17. 'HDL'\n",
       "18. 'TChol'\n",
       "19. 'Trig'\n",
       "20. 'HMG'\n",
       "21. 'asprin'\n",
       "22. 'antihyp'\n",
       "23. 'MI'\n",
       "24. 'HxStr'\n",
       "25. 'CABG'\n",
       "26. 'PCI'\n",
       "27. 'Loop'\n",
       "28. 'thiazide'\n",
       "29. 'KDiur'\n",
       "30. 'ARB'\n",
       "31. 'AceI'\n",
       "32. 'Dihy'\n",
       "33. 'nonDihy'\n",
       "34. 'BetaB'\n",
       "35. 'rese'\n",
       "36. 'othBPmed'\n",
       "37. 'ONitra'\n",
       "38. 'nslNitrate'\n",
       "39. 'TZD'\n",
       "40. 'VASO'\n",
       "41. 'Cent'\n",
       "42. 'AlphaB'\n",
       "43. 'K'\n",
       "44. 'dthDays'\n",
       "45. 'dthStat'\n",
       "46. 'study'\n",
       "47. 'studyIDI'\n",
       "48. 'DIUR'\n",
       "49. 'CaCB'\n",
       "50. 'study.1'\n",
       "51. 'type_hyp'\n",
       "\n",
       "\n"
      ],
      "text/plain": [
       " [1] \"person_id\"  \"age\"        \"Sex\"        \"Race\"       \"Race2\"     \n",
       " [6] \"BMI\"        \"weight\"     \"height\"     \"Toba\"       \"Htn\"       \n",
       "[11] \"HxDM\"       \"HxMIStr\"    \"revasc\"     \"BP.s\"       \"BP.d\"      \n",
       "[16] \"LDL\"        \"HDL\"        \"TChol\"      \"Trig\"       \"HMG\"       \n",
       "[21] \"asprin\"     \"antihyp\"    \"MI\"         \"HxStr\"      \"CABG\"      \n",
       "[26] \"PCI\"        \"Loop\"       \"thiazide\"   \"KDiur\"      \"ARB\"       \n",
       "[31] \"AceI\"       \"Dihy\"       \"nonDihy\"    \"BetaB\"      \"rese\"      \n",
       "[36] \"othBPmed\"   \"ONitra\"     \"nslNitrate\" \"TZD\"        \"VASO\"      \n",
       "[41] \"Cent\"       \"AlphaB\"     \"K\"          \"dthDays\"    \"dthStat\"   \n",
       "[46] \"study\"      \"studyIDI\"   \"DIUR\"       \"CaCB\"       \"study.1\"   \n",
       "[51] \"type_hyp\"  "
      ]
     },
     "metadata": {},
     "output_type": "display_data"
    }
   ],
   "source": [
    "table(hyp$study.1)\n",
    "table(hyp$antihyp)\n",
    "table(hyp$type_hyp)\n",
    "colnames(hyp)"
   ]
  },
  {
   "cell_type": "code",
   "execution_count": 8,
   "metadata": {},
   "outputs": [],
   "source": [
    "write.csv(final, 'analysis_ds.csv', row.names=FALSE)"
   ]
  },
  {
   "cell_type": "code",
   "execution_count": 27,
   "metadata": {},
   "outputs": [],
   "source": [
    "anly=read.csv('analysis_ds.csv')"
   ]
  },
  {
   "cell_type": "code",
   "execution_count": 28,
   "metadata": {},
   "outputs": [
    {
     "data": {
      "text/plain": [
       "\n",
       " ACCORD AIMHIGH  ALLHAT  BARI2D \n",
       "   9842    4196   24316    2331 "
      ]
     },
     "metadata": {},
     "output_type": "display_data"
    },
    {
     "data": {
      "text/html": [
       "40685"
      ],
      "text/latex": [
       "40685"
      ],
      "text/markdown": [
       "40685"
      ],
      "text/plain": [
       "[1] 40685"
      ]
     },
     "metadata": {},
     "output_type": "display_data"
    }
   ],
   "source": [
    "table(anly$study.1)\n",
    "nrow(anly)"
   ]
  },
  {
   "cell_type": "code",
   "execution_count": 16,
   "metadata": {},
   "outputs": [],
   "source": [
    "sub=anly[anly$study.1=='',]"
   ]
  },
  {
   "cell_type": "code",
   "execution_count": 18,
   "metadata": {},
   "outputs": [
    {
     "data": {
      "text/html": [
       "422"
      ],
      "text/latex": [
       "422"
      ],
      "text/markdown": [
       "422"
      ],
      "text/plain": [
       "[1] 422"
      ]
     },
     "metadata": {},
     "output_type": "display_data"
    },
    {
     "data": {
      "text/html": [
       "<table>\n",
       "<thead><tr><th></th><th scope=col>person_id</th><th scope=col>age</th><th scope=col>Sex</th><th scope=col>Race</th><th scope=col>Race2</th><th scope=col>BMI</th><th scope=col>weight</th><th scope=col>height</th><th scope=col>Toba</th><th scope=col>Htn</th><th scope=col>⋯</th><th scope=col>AlphaB</th><th scope=col>K</th><th scope=col>dthDays</th><th scope=col>dthStat</th><th scope=col>study</th><th scope=col>studyIDI</th><th scope=col>DIUR</th><th scope=col>CaCB</th><th scope=col>study.1</th><th scope=col>type_hyp</th></tr></thead>\n",
       "<tbody>\n",
       "\t<tr><th scope=row>NA</th><td>NA</td><td>NA</td><td>NA</td><td>NA</td><td>NA</td><td>NA</td><td>NA</td><td>NA</td><td>NA</td><td>NA</td><td>⋯ </td><td>NA</td><td>NA</td><td>NA</td><td>NA</td><td>NA</td><td>NA</td><td>NA</td><td>NA</td><td>NA</td><td>NA</td></tr>\n",
       "\t<tr><th scope=row>NA.1</th><td>NA</td><td>NA</td><td>NA</td><td>NA</td><td>NA</td><td>NA</td><td>NA</td><td>NA</td><td>NA</td><td>NA</td><td>⋯ </td><td>NA</td><td>NA</td><td>NA</td><td>NA</td><td>NA</td><td>NA</td><td>NA</td><td>NA</td><td>NA</td><td>NA</td></tr>\n",
       "\t<tr><th scope=row>NA.2</th><td>NA</td><td>NA</td><td>NA</td><td>NA</td><td>NA</td><td>NA</td><td>NA</td><td>NA</td><td>NA</td><td>NA</td><td>⋯ </td><td>NA</td><td>NA</td><td>NA</td><td>NA</td><td>NA</td><td>NA</td><td>NA</td><td>NA</td><td>NA</td><td>NA</td></tr>\n",
       "\t<tr><th scope=row>NA.3</th><td>NA</td><td>NA</td><td>NA</td><td>NA</td><td>NA</td><td>NA</td><td>NA</td><td>NA</td><td>NA</td><td>NA</td><td>⋯ </td><td>NA</td><td>NA</td><td>NA</td><td>NA</td><td>NA</td><td>NA</td><td>NA</td><td>NA</td><td>NA</td><td>NA</td></tr>\n",
       "\t<tr><th scope=row>NA.4</th><td>NA</td><td>NA</td><td>NA</td><td>NA</td><td>NA</td><td>NA</td><td>NA</td><td>NA</td><td>NA</td><td>NA</td><td>⋯ </td><td>NA</td><td>NA</td><td>NA</td><td>NA</td><td>NA</td><td>NA</td><td>NA</td><td>NA</td><td>NA</td><td>NA</td></tr>\n",
       "\t<tr><th scope=row>NA.5</th><td>NA</td><td>NA</td><td>NA</td><td>NA</td><td>NA</td><td>NA</td><td>NA</td><td>NA</td><td>NA</td><td>NA</td><td>⋯ </td><td>NA</td><td>NA</td><td>NA</td><td>NA</td><td>NA</td><td>NA</td><td>NA</td><td>NA</td><td>NA</td><td>NA</td></tr>\n",
       "</tbody>\n",
       "</table>\n"
      ],
      "text/latex": [
       "\\begin{tabular}{r|lllllllllllllllllllllllllllllllllllllllllllllllllll}\n",
       "  & person\\_id & age & Sex & Race & Race2 & BMI & weight & height & Toba & Htn & ⋯ & AlphaB & K & dthDays & dthStat & study & studyIDI & DIUR & CaCB & study.1 & type\\_hyp\\\\\n",
       "\\hline\n",
       "\tNA & NA & NA & NA & NA & NA & NA & NA & NA & NA & NA & ⋯  & NA & NA & NA & NA & NA & NA & NA & NA & NA & NA\\\\\n",
       "\tNA.1 & NA & NA & NA & NA & NA & NA & NA & NA & NA & NA & ⋯  & NA & NA & NA & NA & NA & NA & NA & NA & NA & NA\\\\\n",
       "\tNA.2 & NA & NA & NA & NA & NA & NA & NA & NA & NA & NA & ⋯  & NA & NA & NA & NA & NA & NA & NA & NA & NA & NA\\\\\n",
       "\tNA.3 & NA & NA & NA & NA & NA & NA & NA & NA & NA & NA & ⋯  & NA & NA & NA & NA & NA & NA & NA & NA & NA & NA\\\\\n",
       "\tNA.4 & NA & NA & NA & NA & NA & NA & NA & NA & NA & NA & ⋯  & NA & NA & NA & NA & NA & NA & NA & NA & NA & NA\\\\\n",
       "\tNA.5 & NA & NA & NA & NA & NA & NA & NA & NA & NA & NA & ⋯  & NA & NA & NA & NA & NA & NA & NA & NA & NA & NA\\\\\n",
       "\\end{tabular}\n"
      ],
      "text/markdown": [
       "\n",
       "| <!--/--> | person_id | age | Sex | Race | Race2 | BMI | weight | height | Toba | Htn | ⋯ | AlphaB | K | dthDays | dthStat | study | studyIDI | DIUR | CaCB | study.1 | type_hyp | \n",
       "|---|---|---|---|---|---|\n",
       "| NA | NA | NA | NA | NA | NA | NA | NA | NA | NA | NA | ⋯  | NA | NA | NA | NA | NA | NA | NA | NA | NA | NA | \n",
       "| NA.1 | NA | NA | NA | NA | NA | NA | NA | NA | NA | NA | ⋯  | NA | NA | NA | NA | NA | NA | NA | NA | NA | NA | \n",
       "| NA.2 | NA | NA | NA | NA | NA | NA | NA | NA | NA | NA | ⋯  | NA | NA | NA | NA | NA | NA | NA | NA | NA | NA | \n",
       "| NA.3 | NA | NA | NA | NA | NA | NA | NA | NA | NA | NA | ⋯  | NA | NA | NA | NA | NA | NA | NA | NA | NA | NA | \n",
       "| NA.4 | NA | NA | NA | NA | NA | NA | NA | NA | NA | NA | ⋯  | NA | NA | NA | NA | NA | NA | NA | NA | NA | NA | \n",
       "| NA.5 | NA | NA | NA | NA | NA | NA | NA | NA | NA | NA | ⋯  | NA | NA | NA | NA | NA | NA | NA | NA | NA | NA | \n",
       "\n",
       "\n"
      ],
      "text/plain": [
       "     person_id age Sex Race Race2 BMI weight height Toba Htn ⋯ AlphaB K \n",
       "NA   NA        NA  NA  NA   NA    NA  NA     NA     NA   NA  ⋯ NA     NA\n",
       "NA.1 NA        NA  NA  NA   NA    NA  NA     NA     NA   NA  ⋯ NA     NA\n",
       "NA.2 NA        NA  NA  NA   NA    NA  NA     NA     NA   NA  ⋯ NA     NA\n",
       "NA.3 NA        NA  NA  NA   NA    NA  NA     NA     NA   NA  ⋯ NA     NA\n",
       "NA.4 NA        NA  NA  NA   NA    NA  NA     NA     NA   NA  ⋯ NA     NA\n",
       "NA.5 NA        NA  NA  NA   NA    NA  NA     NA     NA   NA  ⋯ NA     NA\n",
       "     dthDays dthStat study studyIDI DIUR CaCB study.1 type_hyp\n",
       "NA   NA      NA      NA    NA       NA   NA   NA      NA      \n",
       "NA.1 NA      NA      NA    NA       NA   NA   NA      NA      \n",
       "NA.2 NA      NA      NA    NA       NA   NA   NA      NA      \n",
       "NA.3 NA      NA      NA    NA       NA   NA   NA      NA      \n",
       "NA.4 NA      NA      NA    NA       NA   NA   NA      NA      \n",
       "NA.5 NA      NA      NA    NA       NA   NA   NA      NA      "
      ]
     },
     "metadata": {},
     "output_type": "display_data"
    }
   ],
   "source": [
    "nrow(sub)\n",
    "head(sub)"
   ]
  }
 ],
 "metadata": {
  "kernelspec": {
   "display_name": "R",
   "language": "R",
   "name": "ir"
  },
  "language_info": {
   "codemirror_mode": "r",
   "file_extension": ".r",
   "mimetype": "text/x-r-source",
   "name": "R",
   "pygments_lexer": "r",
   "version": "3.4.1"
  }
 },
 "nbformat": 4,
 "nbformat_minor": 2
}
