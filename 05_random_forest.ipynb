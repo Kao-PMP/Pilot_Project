{
 "cells": [
  {
   "cell_type": "markdown",
   "metadata": {},
   "source": [
    "Purpose: Random Forest for survival  \n",
    "Programmer:Hillary Mulder  \n",
    "Date: October 2019  \n",
    "Modification History:  \n"
   ]
  },
  {
   "cell_type": "code",
   "execution_count": 3,
   "metadata": {},
   "outputs": [
    {
     "ename": "ERROR",
     "evalue": "Error in library(ranger): there is no package called ‘ranger’\n",
     "output_type": "error",
     "traceback": [
      "Error in library(ranger): there is no package called ‘ranger’\nTraceback:\n",
      "1. library(ranger)",
      "2. stop(txt, domain = NA)"
     ]
    }
   ],
   "source": [
    "#library(tidyverse)\n",
    "library(ranger)\n",
    "library(survival)\n",
    "library(dplyr)\n",
    "library(caret)"
   ]
  },
  {
   "cell_type": "code",
   "execution_count": 2,
   "metadata": {},
   "outputs": [
    {
     "data": {
      "text/html": [
       "<ol class=list-inline>\n",
       "\t<li>'age'</li>\n",
       "\t<li>'Sex'</li>\n",
       "\t<li>'Race2'</li>\n",
       "\t<li>'BMI'</li>\n",
       "\t<li>'Toba'</li>\n",
       "\t<li>'Htn'</li>\n",
       "\t<li>'HxDM'</li>\n",
       "\t<li>'HxMIStr'</li>\n",
       "\t<li>'revasc'</li>\n",
       "\t<li>'BP.s'</li>\n",
       "\t<li>'BP.d'</li>\n",
       "\t<li>'LDL'</li>\n",
       "\t<li>'HDL'</li>\n",
       "\t<li>'TChol'</li>\n",
       "\t<li>'Trig'</li>\n",
       "\t<li>'HMG'</li>\n",
       "\t<li>'asprin'</li>\n",
       "\t<li>'antihyp'</li>\n",
       "\t<li>'allhat'</li>\n",
       "\t<li>'aimhigh'</li>\n",
       "\t<li>'accord'</li>\n",
       "</ol>\n"
      ],
      "text/latex": [
       "\\begin{enumerate*}\n",
       "\\item 'age'\n",
       "\\item 'Sex'\n",
       "\\item 'Race2'\n",
       "\\item 'BMI'\n",
       "\\item 'Toba'\n",
       "\\item 'Htn'\n",
       "\\item 'HxDM'\n",
       "\\item 'HxMIStr'\n",
       "\\item 'revasc'\n",
       "\\item 'BP.s'\n",
       "\\item 'BP.d'\n",
       "\\item 'LDL'\n",
       "\\item 'HDL'\n",
       "\\item 'TChol'\n",
       "\\item 'Trig'\n",
       "\\item 'HMG'\n",
       "\\item 'asprin'\n",
       "\\item 'antihyp'\n",
       "\\item 'allhat'\n",
       "\\item 'aimhigh'\n",
       "\\item 'accord'\n",
       "\\end{enumerate*}\n"
      ],
      "text/markdown": [
       "1. 'age'\n",
       "2. 'Sex'\n",
       "3. 'Race2'\n",
       "4. 'BMI'\n",
       "5. 'Toba'\n",
       "6. 'Htn'\n",
       "7. 'HxDM'\n",
       "8. 'HxMIStr'\n",
       "9. 'revasc'\n",
       "10. 'BP.s'\n",
       "11. 'BP.d'\n",
       "12. 'LDL'\n",
       "13. 'HDL'\n",
       "14. 'TChol'\n",
       "15. 'Trig'\n",
       "16. 'HMG'\n",
       "17. 'asprin'\n",
       "18. 'antihyp'\n",
       "19. 'allhat'\n",
       "20. 'aimhigh'\n",
       "21. 'accord'\n",
       "\n",
       "\n"
      ],
      "text/plain": [
       " [1] \"age\"     \"Sex\"     \"Race2\"   \"BMI\"     \"Toba\"    \"Htn\"     \"HxDM\"   \n",
       " [8] \"HxMIStr\" \"revasc\"  \"BP.s\"    \"BP.d\"    \"LDL\"     \"HDL\"     \"TChol\"  \n",
       "[15] \"Trig\"    \"HMG\"     \"asprin\"  \"antihyp\" \"allhat\"  \"aimhigh\" \"accord\" "
      ]
     },
     "metadata": {},
     "output_type": "display_data"
    },
    {
     "ename": "ERROR",
     "evalue": "Error in preProcess(train2, method = c(\"center\", \"scale\")): could not find function \"preProcess\"\n",
     "output_type": "error",
     "traceback": [
      "Error in preProcess(train2, method = c(\"center\", \"scale\")): could not find function \"preProcess\"\nTraceback:\n"
     ]
    }
   ],
   "source": [
    "hyp=read.csv(\"Data/analysis_ds.csv\")\n",
    "hyp$allhat=ifelse(hyp$study.1=='ALLHAT', 1, 0)\n",
    "hyp$aimhigh=ifelse(hyp$study.1=='AIMHIGH', 1, 0)\n",
    "hyp$accord=ifelse(hyp$study.1=='ACCORD', 1, 0)\n",
    "\n",
    "train=hyp[which(hyp$train==1),]\n",
    "test=hyp[which(hyp$test==1),]\n",
    "\n",
    "#train2=train[complete.cases(train[, c(1:3, 5, 6, 9:19, 20:22, 50:53)]), c(1:3, 5, 6, 9:19, 20:22, 50:53)]\n",
    "#colnames(train2)\n",
    "train2=train[complete.cases(train[, c(2, 3, 5, 6, 9:19, 20:22, 56:58)]), c(2, 3, 5, 6, 9:19, 20:22, 56:58)]\n",
    "colnames(train2)\n",
    "test2=test[complete.cases(test[, c(2, 3, 5, 6, 9:19, 20:22, 56:58)]), c(2, 3, 5, 6, 9:19, 20:22, 56:58)]\n",
    "ppr=preProcess(train2, method=c('center', 'scale'))\n",
    "trainx=predict(ppr, newdata=train2)\n",
    "trainx=data.frame(trainx, train2[,52:53])\n",
    "\n",
    "testx=predict(ppr, newdata=test2)\n",
    "testx=data.frame(testx, test2[,52:53])"
   ]
  },
  {
   "cell_type": "code",
   "execution_count": null,
   "metadata": {},
   "outputs": [],
   "source": [
    "r0 = ranger(Surv(tdeath, death)~age+Sex+Race2+BMI+Toba+Htn+HxDM+HxMIStr+revasc+BP.s+BP.d+\n",
    "            LDL+HDL+TChol+Trig+HMG+asprin+antihyp+study.1,\n",
    "           data=train2, seed=354, replace=F, verbose=T, num.threads=10, num.trees=100, importance=\"none\")"
   ]
  }
 ],
 "metadata": {
  "kernelspec": {
   "display_name": "R",
   "language": "R",
   "name": "ir"
  },
  "language_info": {
   "codemirror_mode": "r",
   "file_extension": ".r",
   "mimetype": "text/x-r-source",
   "name": "R",
   "pygments_lexer": "r",
   "version": "3.4.1"
  }
 },
 "nbformat": 4,
 "nbformat_minor": 2
}
