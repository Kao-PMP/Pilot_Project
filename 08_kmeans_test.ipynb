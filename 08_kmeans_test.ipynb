{
 "cells": [
  {
   "cell_type": "markdown",
   "metadata": {},
   "source": [
    "Program: 08_kmeans_test.R  \n",
    "Date: September, 2019  \n",
    "Programmer: Hillary Mulder  \n",
    "Purpose: Show K means doesnt work well with harmonized trials data"
   ]
  },
  {
   "cell_type": "code",
   "execution_count": 2,
   "metadata": {},
   "outputs": [
    {
     "name": "stderr",
     "output_type": "stream",
     "text": [
      "Loading required package: lattice\n",
      "Loading required package: ggplot2\n",
      "\n",
      "Attaching package: ‘purrr’\n",
      "\n",
      "The following object is masked from ‘package:caret’:\n",
      "\n",
      "    lift\n",
      "\n",
      "\n",
      "Attaching package: ‘dplyr’\n",
      "\n",
      "The following objects are masked from ‘package:stats’:\n",
      "\n",
      "    filter, lag\n",
      "\n",
      "The following objects are masked from ‘package:base’:\n",
      "\n",
      "    intersect, setdiff, setequal, union\n",
      "\n",
      "\n",
      "Attaching package: ‘boot’\n",
      "\n",
      "The following object is masked from ‘package:lattice’:\n",
      "\n",
      "    melanoma\n",
      "\n",
      "Loading required package: survival\n",
      "\n",
      "Attaching package: ‘survival’\n",
      "\n",
      "The following object is masked from ‘package:boot’:\n",
      "\n",
      "    aml\n",
      "\n",
      "The following object is masked from ‘package:caret’:\n",
      "\n",
      "    cluster\n",
      "\n",
      "Loading required package: Formula\n",
      "\n",
      "Attaching package: ‘Hmisc’\n",
      "\n",
      "The following objects are masked from ‘package:dplyr’:\n",
      "\n",
      "    src, summarize\n",
      "\n",
      "The following objects are masked from ‘package:base’:\n",
      "\n",
      "    format.pval, units\n",
      "\n"
     ]
    }
   ],
   "source": [
    "library(cluster)\n",
    "library(caret)\n",
    "library(purrr)\n",
    "library(dplyr)\n",
    "library(boot)\n",
    "#library(table1)\n",
    "library(Hmisc)"
   ]
  },
  {
   "cell_type": "code",
   "execution_count": 1,
   "metadata": {},
   "outputs": [],
   "source": [
    "data=read.csv(\"/mnt/workspace/DCRI/Data/analysis_ds.csv\")\n",
    "\n",
    "data$allhat=ifelse(data$study.1=='ALLHAT', 1, 0)\n",
    "data$aimhigh=ifelse(data$study.1=='AIMHIGH', 1, 0)\n",
    "data$accord=ifelse(data$study.1=='ACCORD', 1, 0)"
   ]
  },
  {
   "cell_type": "code",
   "execution_count": 3,
   "metadata": {},
   "outputs": [
    {
     "data": {
      "text/html": [
       "<ol class=list-inline>\n",
       "\t<li>'age'</li>\n",
       "\t<li>'Sex'</li>\n",
       "\t<li>'Race2'</li>\n",
       "\t<li>'BMI'</li>\n",
       "\t<li>'Toba'</li>\n",
       "\t<li>'Htn'</li>\n",
       "\t<li>'HxDM'</li>\n",
       "\t<li>'HxMIStr'</li>\n",
       "\t<li>'revasc'</li>\n",
       "\t<li>'BP.s'</li>\n",
       "\t<li>'BP.d'</li>\n",
       "\t<li>'LDL'</li>\n",
       "\t<li>'HDL'</li>\n",
       "\t<li>'TChol'</li>\n",
       "\t<li>'Trig'</li>\n",
       "\t<li>'HMG'</li>\n",
       "\t<li>'asprin'</li>\n",
       "\t<li>'antihyp'</li>\n",
       "\t<li>'allhat'</li>\n",
       "\t<li>'aimhigh'</li>\n",
       "\t<li>'accord'</li>\n",
       "</ol>\n"
      ],
      "text/latex": [
       "\\begin{enumerate*}\n",
       "\\item 'age'\n",
       "\\item 'Sex'\n",
       "\\item 'Race2'\n",
       "\\item 'BMI'\n",
       "\\item 'Toba'\n",
       "\\item 'Htn'\n",
       "\\item 'HxDM'\n",
       "\\item 'HxMIStr'\n",
       "\\item 'revasc'\n",
       "\\item 'BP.s'\n",
       "\\item 'BP.d'\n",
       "\\item 'LDL'\n",
       "\\item 'HDL'\n",
       "\\item 'TChol'\n",
       "\\item 'Trig'\n",
       "\\item 'HMG'\n",
       "\\item 'asprin'\n",
       "\\item 'antihyp'\n",
       "\\item 'allhat'\n",
       "\\item 'aimhigh'\n",
       "\\item 'accord'\n",
       "\\end{enumerate*}\n"
      ],
      "text/markdown": [
       "1. 'age'\n",
       "2. 'Sex'\n",
       "3. 'Race2'\n",
       "4. 'BMI'\n",
       "5. 'Toba'\n",
       "6. 'Htn'\n",
       "7. 'HxDM'\n",
       "8. 'HxMIStr'\n",
       "9. 'revasc'\n",
       "10. 'BP.s'\n",
       "11. 'BP.d'\n",
       "12. 'LDL'\n",
       "13. 'HDL'\n",
       "14. 'TChol'\n",
       "15. 'Trig'\n",
       "16. 'HMG'\n",
       "17. 'asprin'\n",
       "18. 'antihyp'\n",
       "19. 'allhat'\n",
       "20. 'aimhigh'\n",
       "21. 'accord'\n",
       "\n",
       "\n"
      ],
      "text/plain": [
       " [1] \"age\"     \"Sex\"     \"Race2\"   \"BMI\"     \"Toba\"    \"Htn\"     \"HxDM\"   \n",
       " [8] \"HxMIStr\" \"revasc\"  \"BP.s\"    \"BP.d\"    \"LDL\"     \"HDL\"     \"TChol\"  \n",
       "[15] \"Trig\"    \"HMG\"     \"asprin\"  \"antihyp\" \"allhat\"  \"aimhigh\" \"accord\" "
      ]
     },
     "metadata": {},
     "output_type": "display_data"
    }
   ],
   "source": [
    "train=data[which(data$train==1),]\n",
    "base_nmiss=train[complete.cases(train[, c(1:3, 5, 6, 9:19, 20:22, 50, 51, 56:58)]), c(1:3, 5, 6, 9:19, 20:22, 50, 51, 56:58)]\n",
    "studyn=base_nmiss$study.1\n",
    "enrolid=base_nmiss[,1]\n",
    "base_nmiss=base_nmiss[, -c(1,20,21)]\n",
    "#base_nmiss=base_nmiss[, -c(1,9,10,22,23)]\n",
    "colnames(base_nmiss)\n",
    "ppr=preProcess(base_nmiss, method=c('center','scale'))\n",
    "\n",
    "#apply transformations\n",
    "base_scale=predict(ppr, newdata=base_nmiss)\n",
    "\n",
    "#base_scale=scale(base_nmiss)"
   ]
  },
  {
   "cell_type": "code",
   "execution_count": 8,
   "metadata": {},
   "outputs": [],
   "source": [
    "test=data[which(data$test==1),]\n",
    "test_nmiss=test[complete.cases(test[, c(1:3, 5, 6, 9:19, 20:22, 50, 51, 56:58)]), c(1:3, 5, 6, 9:19, 20:22, 50, 51, 56:58)]\n",
    "test_studyn=test_nmiss$study.1\n",
    "test_enrolid=test_nmiss[,1]\n",
    "test_nmiss=test_nmiss[, -c(1,20,21)]\n",
    "#base_nmiss=base_nmiss[, -c(1,9,10,22,23)]\n",
    "#test_scale=scale(_nmiss)\n",
    "test_scale=predict(ppr, newdata=test_nmiss)"
   ]
  },
  {
   "cell_type": "code",
   "execution_count": 9,
   "metadata": {},
   "outputs": [
    {
     "name": "stderr",
     "output_type": "stream",
     "text": [
      "Warning message:\n",
      "“Quick-TRANSfer stage steps exceeded maximum (= 1233550)”"
     ]
    },
    {
     "data": {
      "image/png": "[encoded data removed]",
      "text/plain": [
       "plot without title"
      ]
     },
     "metadata": {},
     "output_type": "display_data"
    }
   ],
   "source": [
    "set.seed(123)\n",
    "\n",
    "# function to compute total within-cluster sum of square \n",
    "wss <- function(k) {\n",
    "  kmeans(base_scale, k, iter.max=20, nstart = 4)$tot.withinss\n",
    "}\n",
    "\n",
    "# Compute and plot wss for k = 1 to k = 15\n",
    "k.values <- 2:15\n",
    "\n",
    "# extract wss for 2-15 clusters\n",
    "wss_values <- map_dbl(k.values, wss)\n",
    "\n",
    "plot(k.values, wss_values,\n",
    "       type=\"b\", pch = 19, frame = FALSE, \n",
    "       xlab=\"Number of clusters K\",\n",
    "       ylab=\"Total within-clusters sum of squares\")\n"
   ]
  },
  {
   "cell_type": "code",
   "execution_count": 10,
   "metadata": {},
   "outputs": [],
   "source": [
    "#going to use 4 or 5 clusters\n",
    "\n",
    "set.seed(123)\n",
    "cluster1 <- kmeans(base_scale, 4, iter.max=15, nstart = 6)\n",
    "cluster2 <- kmeans(base_scale, 5, iter.max=15, nstart = 6)"
   ]
  },
  {
   "cell_type": "code",
   "execution_count": 11,
   "metadata": {},
   "outputs": [
    {
     "data": {
      "text/html": [
       "<table>\n",
       "<thead><tr><th scope=col>Cluster</th><th scope=col>age</th><th scope=col>Sex</th><th scope=col>Race2</th><th scope=col>BMI</th><th scope=col>Toba</th><th scope=col>Htn</th><th scope=col>HxDM</th><th scope=col>HxMIStr</th><th scope=col>revasc</th><th scope=col>⋯</th><th scope=col>LDL</th><th scope=col>HDL</th><th scope=col>TChol</th><th scope=col>Trig</th><th scope=col>HMG</th><th scope=col>asprin</th><th scope=col>antihyp</th><th scope=col>allhat</th><th scope=col>aimhigh</th><th scope=col>accord</th></tr></thead>\n",
       "<tbody>\n",
       "\t<tr><td>1           </td><td>66.20203    </td><td>1.763118    </td><td>1.546947    </td><td>29.98012    </td><td>0.7588217   </td><td>0.9990795   </td><td>0.3904572   </td><td>0.1472844   </td><td>0.0374348   </td><td>⋯           </td><td>149.14867   </td><td>55.08592    </td><td>231.7639    </td><td>137.7203    </td><td>0.07026695  </td><td>0.2026695   </td><td>0.8832464   </td><td>0.9754525928</td><td>0.0001534213</td><td>0.0147284443</td></tr>\n",
       "\t<tr><td>2           </td><td>64.20194    </td><td>1.157862    </td><td>1.038762    </td><td>31.18222    </td><td>0.2119412   </td><td>0.7352298   </td><td>0.3732416   </td><td>0.6130041   </td><td>0.8415130   </td><td>⋯           </td><td> 73.83182   </td><td>34.70428    </td><td>142.8387    </td><td>182.2748    </td><td>0.99968740  </td><td>0.9130978   </td><td>0.9753048   </td><td>0.0000000000</td><td>0.9690528290</td><td>0.0000000000</td></tr>\n",
       "\t<tr><td>3           </td><td>67.35424    </td><td>1.161920    </td><td>1.145072    </td><td>29.02157    </td><td>0.8066199   </td><td>0.9992545   </td><td>0.3509766   </td><td>0.3278664   </td><td>0.2214105   </td><td>⋯           </td><td>125.15074   </td><td>39.95915    </td><td>197.6365    </td><td>163.1928    </td><td>0.05471895  </td><td>0.5425675   </td><td>0.9256001   </td><td>0.9773371105</td><td>0.0001490980</td><td>0.0002981959</td></tr>\n",
       "\t<tr><td>4           </td><td>62.75689    </td><td>1.376864    </td><td>1.201528    </td><td>32.32401    </td><td>0.1894022   </td><td>0.7888929   </td><td>1.0000000   </td><td>0.2209288   </td><td>0.2017703   </td><td>⋯           </td><td>102.20359   </td><td>41.25233    </td><td>179.6225    </td><td>187.5859    </td><td>0.66581787  </td><td>0.6004608   </td><td>0.8914757   </td><td>0.0007275373</td><td>0.0000000000</td><td>0.8696495695</td></tr>\n",
       "</tbody>\n",
       "</table>\n"
      ],
      "text/latex": [
       "\\begin{tabular}{r|llllllllllllllllllllll}\n",
       " Cluster & age & Sex & Race2 & BMI & Toba & Htn & HxDM & HxMIStr & revasc & ⋯ & LDL & HDL & TChol & Trig & HMG & asprin & antihyp & allhat & aimhigh & accord\\\\\n",
       "\\hline\n",
       "\t 1            & 66.20203     & 1.763118     & 1.546947     & 29.98012     & 0.7588217    & 0.9990795    & 0.3904572    & 0.1472844    & 0.0374348    & ⋯            & 149.14867    & 55.08592     & 231.7639     & 137.7203     & 0.07026695   & 0.2026695    & 0.8832464    & 0.9754525928 & 0.0001534213 & 0.0147284443\\\\\n",
       "\t 2            & 64.20194     & 1.157862     & 1.038762     & 31.18222     & 0.2119412    & 0.7352298    & 0.3732416    & 0.6130041    & 0.8415130    & ⋯            &  73.83182    & 34.70428     & 142.8387     & 182.2748     & 0.99968740   & 0.9130978    & 0.9753048    & 0.0000000000 & 0.9690528290 & 0.0000000000\\\\\n",
       "\t 3            & 67.35424     & 1.161920     & 1.145072     & 29.02157     & 0.8066199    & 0.9992545    & 0.3509766    & 0.3278664    & 0.2214105    & ⋯            & 125.15074    & 39.95915     & 197.6365     & 163.1928     & 0.05471895   & 0.5425675    & 0.9256001    & 0.9773371105 & 0.0001490980 & 0.0002981959\\\\\n",
       "\t 4            & 62.75689     & 1.376864     & 1.201528     & 32.32401     & 0.1894022    & 0.7888929    & 1.0000000    & 0.2209288    & 0.2017703    & ⋯            & 102.20359    & 41.25233     & 179.6225     & 187.5859     & 0.66581787   & 0.6004608    & 0.8914757    & 0.0007275373 & 0.0000000000 & 0.8696495695\\\\\n",
       "\\end{tabular}\n"
      ],
      "text/markdown": [
       "\n",
       "Cluster | age | Sex | Race2 | BMI | Toba | Htn | HxDM | HxMIStr | revasc | ⋯ | LDL | HDL | TChol | Trig | HMG | asprin | antihyp | allhat | aimhigh | accord | \n",
       "|---|---|---|---|\n",
       "| 1            | 66.20203     | 1.763118     | 1.546947     | 29.98012     | 0.7588217    | 0.9990795    | 0.3904572    | 0.1472844    | 0.0374348    | ⋯            | 149.14867    | 55.08592     | 231.7639     | 137.7203     | 0.07026695   | 0.2026695    | 0.8832464    | 0.9754525928 | 0.0001534213 | 0.0147284443 | \n",
       "| 2            | 64.20194     | 1.157862     | 1.038762     | 31.18222     | 0.2119412    | 0.7352298    | 0.3732416    | 0.6130041    | 0.8415130    | ⋯            |  73.83182    | 34.70428     | 142.8387     | 182.2748     | 0.99968740   | 0.9130978    | 0.9753048    | 0.0000000000 | 0.9690528290 | 0.0000000000 | \n",
       "| 3            | 67.35424     | 1.161920     | 1.145072     | 29.02157     | 0.8066199    | 0.9992545    | 0.3509766    | 0.3278664    | 0.2214105    | ⋯            | 125.15074    | 39.95915     | 197.6365     | 163.1928     | 0.05471895   | 0.5425675    | 0.9256001    | 0.9773371105 | 0.0001490980 | 0.0002981959 | \n",
       "| 4            | 62.75689     | 1.376864     | 1.201528     | 32.32401     | 0.1894022    | 0.7888929    | 1.0000000    | 0.2209288    | 0.2017703    | ⋯            | 102.20359    | 41.25233     | 179.6225     | 187.5859     | 0.66581787   | 0.6004608    | 0.8914757    | 0.0007275373 | 0.0000000000 | 0.8696495695 | \n",
       "\n",
       "\n"
      ],
      "text/plain": [
       "  Cluster age      Sex      Race2    BMI      Toba      Htn       HxDM     \n",
       "1 1       66.20203 1.763118 1.546947 29.98012 0.7588217 0.9990795 0.3904572\n",
       "2 2       64.20194 1.157862 1.038762 31.18222 0.2119412 0.7352298 0.3732416\n",
       "3 3       67.35424 1.161920 1.145072 29.02157 0.8066199 0.9992545 0.3509766\n",
       "4 4       62.75689 1.376864 1.201528 32.32401 0.1894022 0.7888929 1.0000000\n",
       "  HxMIStr   revasc    ⋯ LDL       HDL      TChol    Trig     HMG       \n",
       "1 0.1472844 0.0374348 ⋯ 149.14867 55.08592 231.7639 137.7203 0.07026695\n",
       "2 0.6130041 0.8415130 ⋯  73.83182 34.70428 142.8387 182.2748 0.99968740\n",
       "3 0.3278664 0.2214105 ⋯ 125.15074 39.95915 197.6365 163.1928 0.05471895\n",
       "4 0.2209288 0.2017703 ⋯ 102.20359 41.25233 179.6225 187.5859 0.66581787\n",
       "  asprin    antihyp   allhat       aimhigh      accord      \n",
       "1 0.2026695 0.8832464 0.9754525928 0.0001534213 0.0147284443\n",
       "2 0.9130978 0.9753048 0.0000000000 0.9690528290 0.0000000000\n",
       "3 0.5425675 0.9256001 0.9773371105 0.0001490980 0.0002981959\n",
       "4 0.6004608 0.8914757 0.0007275373 0.0000000000 0.8696495695"
      ]
     },
     "metadata": {},
     "output_type": "display_data"
    },
    {
     "data": {
      "text/html": [
       "<table>\n",
       "<thead><tr><th scope=col>Cluster</th><th scope=col>age</th><th scope=col>Sex</th><th scope=col>Race2</th><th scope=col>BMI</th><th scope=col>Toba</th><th scope=col>Htn</th><th scope=col>HxDM</th><th scope=col>HxMIStr</th><th scope=col>revasc</th><th scope=col>⋯</th><th scope=col>LDL</th><th scope=col>HDL</th><th scope=col>TChol</th><th scope=col>Trig</th><th scope=col>HMG</th><th scope=col>asprin</th><th scope=col>antihyp</th><th scope=col>allhat</th><th scope=col>aimhigh</th><th scope=col>accord</th></tr></thead>\n",
       "<tbody>\n",
       "\t<tr><td>1           </td><td>67.34462    </td><td>1.160475    </td><td>1.143931    </td><td>28.99661    </td><td>0.8041811   </td><td>0.9990976   </td><td>0.3478719   </td><td>0.3263649   </td><td>0.22168747  </td><td>⋯           </td><td>125.33373   </td><td>39.93187    </td><td>197.8290    </td><td>163.4372    </td><td>0.05143631  </td><td>0.5424876   </td><td>0.9246503   </td><td>0.980899383 </td><td>0.0001503986</td><td>0.0003007971</td></tr>\n",
       "\t<tr><td>2           </td><td>64.18786    </td><td>1.162040    </td><td>1.037121    </td><td>31.17947    </td><td>0.1939961   </td><td>0.7340219   </td><td>0.3531311   </td><td>0.6039380   </td><td>0.83699161  </td><td>⋯           </td><td> 73.85152   </td><td>34.78244    </td><td>142.9135    </td><td>182.5097    </td><td>1.00000000  </td><td>0.9112331   </td><td>0.9754680   </td><td>0.000000000 </td><td>1.0000000000</td><td>0.0000000000</td></tr>\n",
       "\t<tr><td>3           </td><td>63.73523    </td><td>1.256674    </td><td>1.194661    </td><td>31.90498    </td><td>0.2535211   </td><td>0.8120664   </td><td>1.0000000   </td><td>0.3262560   </td><td>0.32730713  </td><td>⋯           </td><td> 86.77402   </td><td>39.62161    </td><td>157.9287    </td><td>160.2363    </td><td>0.90372083  </td><td>0.7675005   </td><td>0.9743536   </td><td>0.001261299 </td><td>0.0000000000</td><td>0.7677107421</td></tr>\n",
       "\t<tr><td>4           </td><td>61.57733    </td><td>1.531057    </td><td>1.218607    </td><td>32.78393    </td><td>0.1320247   </td><td>0.7647217   </td><td>0.9997311   </td><td>0.1064802   </td><td>0.05888680  </td><td>⋯           </td><td>122.52541   </td><td>43.65475    </td><td>208.0024    </td><td>220.7553    </td><td>0.35681635  </td><td>0.3904275   </td><td>0.7843506   </td><td>0.001344447 </td><td>0.0005377790</td><td>0.9688088196</td></tr>\n",
       "\t<tr><td>5           </td><td>66.27866    </td><td>1.761166    </td><td>1.544820    </td><td>29.97801    </td><td>0.7678350   </td><td>1.0000000   </td><td>0.3812035   </td><td>0.1477978   </td><td>0.03753102  </td><td>⋯           </td><td>148.88431   </td><td>54.92990    </td><td>231.3173    </td><td>137.5575    </td><td>0.06947891  </td><td>0.2016129   </td><td>0.8863213   </td><td>0.990384615 </td><td>0.0001550868</td><td>0.0020161290</td></tr>\n",
       "</tbody>\n",
       "</table>\n"
      ],
      "text/latex": [
       "\\begin{tabular}{r|llllllllllllllllllllll}\n",
       " Cluster & age & Sex & Race2 & BMI & Toba & Htn & HxDM & HxMIStr & revasc & ⋯ & LDL & HDL & TChol & Trig & HMG & asprin & antihyp & allhat & aimhigh & accord\\\\\n",
       "\\hline\n",
       "\t 1            & 67.34462     & 1.160475     & 1.143931     & 28.99661     & 0.8041811    & 0.9990976    & 0.3478719    & 0.3263649    & 0.22168747   & ⋯            & 125.33373    & 39.93187     & 197.8290     & 163.4372     & 0.05143631   & 0.5424876    & 0.9246503    & 0.980899383  & 0.0001503986 & 0.0003007971\\\\\n",
       "\t 2            & 64.18786     & 1.162040     & 1.037121     & 31.17947     & 0.1939961    & 0.7340219    & 0.3531311    & 0.6039380    & 0.83699161   & ⋯            &  73.85152    & 34.78244     & 142.9135     & 182.5097     & 1.00000000   & 0.9112331    & 0.9754680    & 0.000000000  & 1.0000000000 & 0.0000000000\\\\\n",
       "\t 3            & 63.73523     & 1.256674     & 1.194661     & 31.90498     & 0.2535211    & 0.8120664    & 1.0000000    & 0.3262560    & 0.32730713   & ⋯            &  86.77402    & 39.62161     & 157.9287     & 160.2363     & 0.90372083   & 0.7675005    & 0.9743536    & 0.001261299  & 0.0000000000 & 0.7677107421\\\\\n",
       "\t 4            & 61.57733     & 1.531057     & 1.218607     & 32.78393     & 0.1320247    & 0.7647217    & 0.9997311    & 0.1064802    & 0.05888680   & ⋯            & 122.52541    & 43.65475     & 208.0024     & 220.7553     & 0.35681635   & 0.3904275    & 0.7843506    & 0.001344447  & 0.0005377790 & 0.9688088196\\\\\n",
       "\t 5            & 66.27866     & 1.761166     & 1.544820     & 29.97801     & 0.7678350    & 1.0000000    & 0.3812035    & 0.1477978    & 0.03753102   & ⋯            & 148.88431    & 54.92990     & 231.3173     & 137.5575     & 0.06947891   & 0.2016129    & 0.8863213    & 0.990384615  & 0.0001550868 & 0.0020161290\\\\\n",
       "\\end{tabular}\n"
      ],
      "text/markdown": [
       "\n",
       "Cluster | age | Sex | Race2 | BMI | Toba | Htn | HxDM | HxMIStr | revasc | ⋯ | LDL | HDL | TChol | Trig | HMG | asprin | antihyp | allhat | aimhigh | accord | \n",
       "|---|---|---|---|---|\n",
       "| 1            | 67.34462     | 1.160475     | 1.143931     | 28.99661     | 0.8041811    | 0.9990976    | 0.3478719    | 0.3263649    | 0.22168747   | ⋯            | 125.33373    | 39.93187     | 197.8290     | 163.4372     | 0.05143631   | 0.5424876    | 0.9246503    | 0.980899383  | 0.0001503986 | 0.0003007971 | \n",
       "| 2            | 64.18786     | 1.162040     | 1.037121     | 31.17947     | 0.1939961    | 0.7340219    | 0.3531311    | 0.6039380    | 0.83699161   | ⋯            |  73.85152    | 34.78244     | 142.9135     | 182.5097     | 1.00000000   | 0.9112331    | 0.9754680    | 0.000000000  | 1.0000000000 | 0.0000000000 | \n",
       "| 3            | 63.73523     | 1.256674     | 1.194661     | 31.90498     | 0.2535211    | 0.8120664    | 1.0000000    | 0.3262560    | 0.32730713   | ⋯            |  86.77402    | 39.62161     | 157.9287     | 160.2363     | 0.90372083   | 0.7675005    | 0.9743536    | 0.001261299  | 0.0000000000 | 0.7677107421 | \n",
       "| 4            | 61.57733     | 1.531057     | 1.218607     | 32.78393     | 0.1320247    | 0.7647217    | 0.9997311    | 0.1064802    | 0.05888680   | ⋯            | 122.52541    | 43.65475     | 208.0024     | 220.7553     | 0.35681635   | 0.3904275    | 0.7843506    | 0.001344447  | 0.0005377790 | 0.9688088196 | \n",
       "| 5            | 66.27866     | 1.761166     | 1.544820     | 29.97801     | 0.7678350    | 1.0000000    | 0.3812035    | 0.1477978    | 0.03753102   | ⋯            | 148.88431    | 54.92990     | 231.3173     | 137.5575     | 0.06947891   | 0.2016129    | 0.8863213    | 0.990384615  | 0.0001550868 | 0.0020161290 | \n",
       "\n",
       "\n"
      ],
      "text/plain": [
       "  Cluster age      Sex      Race2    BMI      Toba      Htn       HxDM     \n",
       "1 1       67.34462 1.160475 1.143931 28.99661 0.8041811 0.9990976 0.3478719\n",
       "2 2       64.18786 1.162040 1.037121 31.17947 0.1939961 0.7340219 0.3531311\n",
       "3 3       63.73523 1.256674 1.194661 31.90498 0.2535211 0.8120664 1.0000000\n",
       "4 4       61.57733 1.531057 1.218607 32.78393 0.1320247 0.7647217 0.9997311\n",
       "5 5       66.27866 1.761166 1.544820 29.97801 0.7678350 1.0000000 0.3812035\n",
       "  HxMIStr   revasc     ⋯ LDL       HDL      TChol    Trig     HMG       \n",
       "1 0.3263649 0.22168747 ⋯ 125.33373 39.93187 197.8290 163.4372 0.05143631\n",
       "2 0.6039380 0.83699161 ⋯  73.85152 34.78244 142.9135 182.5097 1.00000000\n",
       "3 0.3262560 0.32730713 ⋯  86.77402 39.62161 157.9287 160.2363 0.90372083\n",
       "4 0.1064802 0.05888680 ⋯ 122.52541 43.65475 208.0024 220.7553 0.35681635\n",
       "5 0.1477978 0.03753102 ⋯ 148.88431 54.92990 231.3173 137.5575 0.06947891\n",
       "  asprin    antihyp   allhat      aimhigh      accord      \n",
       "1 0.5424876 0.9246503 0.980899383 0.0001503986 0.0003007971\n",
       "2 0.9112331 0.9754680 0.000000000 1.0000000000 0.0000000000\n",
       "3 0.7675005 0.9743536 0.001261299 0.0000000000 0.7677107421\n",
       "4 0.3904275 0.7843506 0.001344447 0.0005377790 0.9688088196\n",
       "5 0.2016129 0.8863213 0.990384615 0.0001550868 0.0020161290"
      ]
     },
     "metadata": {},
     "output_type": "display_data"
    }
   ],
   "source": [
    "base_nmiss %>%\n",
    "  mutate(Cluster = cluster1$cluster) %>%\n",
    "  group_by(Cluster) %>%\n",
    "  summarise_all(\"mean\")\n",
    "\n",
    "base_nmiss %>%\n",
    "  mutate(Cluster = cluster2$cluster) %>%\n",
    "  group_by(Cluster) %>%\n",
    "  summarise_all(\"mean\")"
   ]
  },
  {
   "cell_type": "code",
   "execution_count": 12,
   "metadata": {},
   "outputs": [
    {
     "data": {
      "text/plain": [
       "         \n",
       "             1    2    3    4\n",
       "  ACCORD    96    0    2 7172\n",
       "  AIMHIGH    1 3100    1    0\n",
       "  ALLHAT  6358    0 6555    6\n",
       "  BARI2D    63   99  149 1069"
      ]
     },
     "metadata": {},
     "output_type": "display_data"
    },
    {
     "data": {
      "text/plain": [
       "         \n",
       "             1    2    3    4    5\n",
       "  ACCORD     2    0 3652 3603   13\n",
       "  AIMHIGH    1 3098    0    2    1\n",
       "  ALLHAT  6522    0    6    5 6386\n",
       "  BARI2D   124    0 1099  109   48"
      ]
     },
     "metadata": {},
     "output_type": "display_data"
    }
   ],
   "source": [
    "#table(base_nmiss$studyn, final$cluster)\n",
    "check=data.frame(person_id=enrolid, study=studyn, cluster1=cluster1$cluster, cluster2=cluster2$cluster)\n",
    "#head(check)\n",
    "table(check$study, check$cluster1)\n",
    "table(check$study, check$cluster2)"
   ]
  },
  {
   "cell_type": "code",
   "execution_count": 13,
   "metadata": {},
   "outputs": [
    {
     "data": {
      "text/plain": [
       "         \n",
       "             1    2    3    4\n",
       "  ACCORD    25    0    0 2406\n",
       "  AIMHIGH    0 1036    0    0\n",
       "  ALLHAT  2050    0 2256    3\n",
       "  BARI2D    25   37   46  351"
      ]
     },
     "metadata": {},
     "output_type": "display_data"
    },
    {
     "data": {
      "text/plain": [
       "         \n",
       "             1    2    3    4    5\n",
       "  ACCORD     0    0 1277 1151    3\n",
       "  AIMHIGH    0 1036    0    0    0\n",
       "  ALLHAT  2251    0    1    3 2054\n",
       "  BARI2D    35    0  354   55   15"
      ]
     },
     "metadata": {},
     "output_type": "display_data"
    }
   ],
   "source": [
    "#table(base_nmiss$studyn, final$cluster)\n",
    "predict.kmeans <- function(object,\n",
    "                           newdata,\n",
    "                           method = c(\"centers\", \"classes\")) {\n",
    "  method <- match.arg(method)\n",
    "\n",
    "  centers <- object$centers\n",
    "  ss_by_center <- apply(centers, 1, function(x) {\n",
    "    colSums((t(newdata) - x) ^ 2)\n",
    "  })\n",
    "  best_clusters <- apply(ss_by_center, 1, which.min)\n",
    "\n",
    "  if (method == \"centers\") {\n",
    "    centers[best_clusters, ]\n",
    "  } else {\n",
    "    best_clusters\n",
    "  }\n",
    "}\n",
    "\n",
    "pred1=predict.kmeans(cluster1, newdata=test_scale, method=\"classes\")\n",
    "pred2=predict.kmeans(cluster2, newdata=test_scale, method=\"classes\")\n",
    "std=data.frame(person_id=test_enrolid, study=test_studyn, cluster1=pred1, cluster2=pred2)\n",
    "#head(std)\n",
    "table(std$study, std$cluster1)\n",
    "table(std$study, std$cluster2)"
   ]
  },
  {
   "cell_type": "code",
   "execution_count": 10,
   "metadata": {},
   "outputs": [],
   "source": [
    "#train2=left_join(x=train, y=check, by='person_id')\n",
    "#colnames(train)\n",
    "#head(train)\n",
    "#test2=left_join(x=test, y=std, by='person_id')\n",
    "\n",
    "#all=rbind(train2, test2)\n",
    "#head(all)\n",
    "#write.csv(all, file='/mnt/workspace/DCRI/Data/analysis_ds_clusters.csv', quote = FALSE,  row.names = FALSE)"
   ]
  },
  {
   "cell_type": "code",
   "execution_count": 20,
   "metadata": {},
   "outputs": [
    {
     "data": {
      "text/plain": [
       "         \n",
       "             1    2    3    4\n",
       "  ACCORD   582 1385 4435  868\n",
       "  AIMHIGH    9 2830  215   48\n",
       "  ALLHAT  9949  524 1216 1230\n",
       "  BARI2D   105  398  852   25"
      ]
     },
     "metadata": {},
     "output_type": "display_data"
    },
    {
     "data": {
      "text/plain": [
       "         \n",
       "             1    2    3    4    5\n",
       "  ACCORD  4018 1307  862  570  513\n",
       "  AIMHIGH  241 2796   48    6   11\n",
       "  ALLHAT   503  313 1230 3928 6945\n",
       "  BARI2D   807  362   25  103   83"
      ]
     },
     "metadata": {},
     "output_type": "display_data"
    },
    {
     "data": {
      "text/plain": [
       "         \n",
       "             1    2    3    4\n",
       "  ACCORD   174  487 1486  284\n",
       "  AIMHIGH    2  943   79   12\n",
       "  ALLHAT  3274  186  410  439\n",
       "  BARI2D    42  128  278   11"
      ]
     },
     "metadata": {},
     "output_type": "display_data"
    },
    {
     "data": {
      "text/plain": [
       "         \n",
       "             1    2    3    4    5\n",
       "  ACCORD  1354  468  282  151  176\n",
       "  AIMHIGH   96  921   12    1    6\n",
       "  ALLHAT   168  114  439 1312 2276\n",
       "  BARI2D   261  117   11   40   30"
      ]
     },
     "metadata": {},
     "output_type": "display_data"
    }
   ],
   "source": [
    "base_new=base_scale[,-(19:21)]\n",
    "test_new=test_scale[,-c(19:21)]\n",
    "\n",
    "set.seed(123)\n",
    "cluster3 <- kmeans(base_new, 4, iter.max=15, nstart = 6)\n",
    "cluster4 <- kmeans(base_new, 5, iter.max=15, nstart = 6)\n",
    "\n",
    "#table(base_nmiss$studyn, final$cluster)\n",
    "check=data.frame(person_id=enrolid, study=studyn, cluster3=cluster3$cluster, cluster4=cluster4$cluster)\n",
    "#head(check)\n",
    "table(check$study, check$cluster3)\n",
    "table(check$study, check$cluster4)\n",
    "\n",
    "\n",
    "pred3=predict.kmeans(cluster3, newdata=test_new, method=\"classes\")\n",
    "pred4=predict.kmeans(cluster4, newdata=test_new, method=\"classes\")\n",
    "std=data.frame(person_id=test_enrolid, study=test_studyn, cluster3=pred3, cluster4=pred4)\n",
    "#head(std)\n",
    "table(std$study, std$cluster3)\n",
    "table(std$study, std$cluster4)"
   ]
  }
 ],
 "metadata": {
  "kernelspec": {
   "display_name": "R",
   "language": "R",
   "name": "ir"
  },
  "language_info": {
   "codemirror_mode": "r",
   "file_extension": ".r",
   "mimetype": "text/x-r-source",
   "name": "R",
   "pygments_lexer": "r",
   "version": "3.4.1"
  }
 },
 "nbformat": 4,
 "nbformat_minor": 2
}
