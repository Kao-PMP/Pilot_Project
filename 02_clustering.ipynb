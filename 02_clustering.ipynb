{
 "cells": [
  {
   "cell_type": "markdown",
   "metadata": {},
   "source": [
    "Program: 02_clustering.R  \n",
    "Date: July 3, 2019  \n",
    "Programmer: Hillary Mulder  \n",
    "Purpose: Use clustering techniques for BP type identification"
   ]
  },
  {
   "cell_type": "code",
   "execution_count": 1,
   "metadata": {},
   "outputs": [
    {
     "data": {
      "text/html": [
       "<ol class=list-inline>\n",
       "\t<li>'person_id'</li>\n",
       "\t<li>'age'</li>\n",
       "\t<li>'Sex'</li>\n",
       "\t<li>'Race'</li>\n",
       "\t<li>'Race2'</li>\n",
       "\t<li>'BMI'</li>\n",
       "\t<li>'weight'</li>\n",
       "\t<li>'height'</li>\n",
       "\t<li>'Toba'</li>\n",
       "\t<li>'Htn'</li>\n",
       "\t<li>'HxDM'</li>\n",
       "\t<li>'HxMIStr'</li>\n",
       "\t<li>'revasc'</li>\n",
       "\t<li>'BP.s'</li>\n",
       "\t<li>'BP.d'</li>\n",
       "\t<li>'LDL'</li>\n",
       "\t<li>'HDL'</li>\n",
       "\t<li>'TChol'</li>\n",
       "\t<li>'Trig'</li>\n",
       "\t<li>'HMG'</li>\n",
       "\t<li>'asprin'</li>\n",
       "\t<li>'antihyp'</li>\n",
       "\t<li>'MI'</li>\n",
       "\t<li>'HxStr'</li>\n",
       "\t<li>'CABG'</li>\n",
       "\t<li>'PCI'</li>\n",
       "\t<li>'Loop'</li>\n",
       "\t<li>'thiazide'</li>\n",
       "\t<li>'KDiur'</li>\n",
       "\t<li>'ARB'</li>\n",
       "\t<li>'AceI'</li>\n",
       "\t<li>'Dihy'</li>\n",
       "\t<li>'nonDihy'</li>\n",
       "\t<li>'BetaB'</li>\n",
       "\t<li>'rese'</li>\n",
       "\t<li>'othBPmed'</li>\n",
       "\t<li>'ONitra'</li>\n",
       "\t<li>'nslNitrate'</li>\n",
       "\t<li>'TZD'</li>\n",
       "\t<li>'VASO'</li>\n",
       "\t<li>'Cent'</li>\n",
       "\t<li>'AlphaB'</li>\n",
       "\t<li>'K'</li>\n",
       "\t<li>'dthDays'</li>\n",
       "\t<li>'dthStat'</li>\n",
       "\t<li>'study'</li>\n",
       "\t<li>'studyIDI'</li>\n",
       "\t<li>'DIUR'</li>\n",
       "\t<li>'CaCB'</li>\n",
       "\t<li>'study.1'</li>\n",
       "\t<li>'type_hyp'</li>\n",
       "\t<li>'death'</li>\n",
       "\t<li>'tdeath'</li>\n",
       "</ol>\n"
      ],
      "text/latex": [
       "\\begin{enumerate*}\n",
       "\\item 'person\\_id'\n",
       "\\item 'age'\n",
       "\\item 'Sex'\n",
       "\\item 'Race'\n",
       "\\item 'Race2'\n",
       "\\item 'BMI'\n",
       "\\item 'weight'\n",
       "\\item 'height'\n",
       "\\item 'Toba'\n",
       "\\item 'Htn'\n",
       "\\item 'HxDM'\n",
       "\\item 'HxMIStr'\n",
       "\\item 'revasc'\n",
       "\\item 'BP.s'\n",
       "\\item 'BP.d'\n",
       "\\item 'LDL'\n",
       "\\item 'HDL'\n",
       "\\item 'TChol'\n",
       "\\item 'Trig'\n",
       "\\item 'HMG'\n",
       "\\item 'asprin'\n",
       "\\item 'antihyp'\n",
       "\\item 'MI'\n",
       "\\item 'HxStr'\n",
       "\\item 'CABG'\n",
       "\\item 'PCI'\n",
       "\\item 'Loop'\n",
       "\\item 'thiazide'\n",
       "\\item 'KDiur'\n",
       "\\item 'ARB'\n",
       "\\item 'AceI'\n",
       "\\item 'Dihy'\n",
       "\\item 'nonDihy'\n",
       "\\item 'BetaB'\n",
       "\\item 'rese'\n",
       "\\item 'othBPmed'\n",
       "\\item 'ONitra'\n",
       "\\item 'nslNitrate'\n",
       "\\item 'TZD'\n",
       "\\item 'VASO'\n",
       "\\item 'Cent'\n",
       "\\item 'AlphaB'\n",
       "\\item 'K'\n",
       "\\item 'dthDays'\n",
       "\\item 'dthStat'\n",
       "\\item 'study'\n",
       "\\item 'studyIDI'\n",
       "\\item 'DIUR'\n",
       "\\item 'CaCB'\n",
       "\\item 'study.1'\n",
       "\\item 'type\\_hyp'\n",
       "\\item 'death'\n",
       "\\item 'tdeath'\n",
       "\\end{enumerate*}\n"
      ],
      "text/markdown": [
       "1. 'person_id'\n",
       "2. 'age'\n",
       "3. 'Sex'\n",
       "4. 'Race'\n",
       "5. 'Race2'\n",
       "6. 'BMI'\n",
       "7. 'weight'\n",
       "8. 'height'\n",
       "9. 'Toba'\n",
       "10. 'Htn'\n",
       "11. 'HxDM'\n",
       "12. 'HxMIStr'\n",
       "13. 'revasc'\n",
       "14. 'BP.s'\n",
       "15. 'BP.d'\n",
       "16. 'LDL'\n",
       "17. 'HDL'\n",
       "18. 'TChol'\n",
       "19. 'Trig'\n",
       "20. 'HMG'\n",
       "21. 'asprin'\n",
       "22. 'antihyp'\n",
       "23. 'MI'\n",
       "24. 'HxStr'\n",
       "25. 'CABG'\n",
       "26. 'PCI'\n",
       "27. 'Loop'\n",
       "28. 'thiazide'\n",
       "29. 'KDiur'\n",
       "30. 'ARB'\n",
       "31. 'AceI'\n",
       "32. 'Dihy'\n",
       "33. 'nonDihy'\n",
       "34. 'BetaB'\n",
       "35. 'rese'\n",
       "36. 'othBPmed'\n",
       "37. 'ONitra'\n",
       "38. 'nslNitrate'\n",
       "39. 'TZD'\n",
       "40. 'VASO'\n",
       "41. 'Cent'\n",
       "42. 'AlphaB'\n",
       "43. 'K'\n",
       "44. 'dthDays'\n",
       "45. 'dthStat'\n",
       "46. 'study'\n",
       "47. 'studyIDI'\n",
       "48. 'DIUR'\n",
       "49. 'CaCB'\n",
       "50. 'study.1'\n",
       "51. 'type_hyp'\n",
       "52. 'death'\n",
       "53. 'tdeath'\n",
       "\n",
       "\n"
      ],
      "text/plain": [
       " [1] \"person_id\"  \"age\"        \"Sex\"        \"Race\"       \"Race2\"     \n",
       " [6] \"BMI\"        \"weight\"     \"height\"     \"Toba\"       \"Htn\"       \n",
       "[11] \"HxDM\"       \"HxMIStr\"    \"revasc\"     \"BP.s\"       \"BP.d\"      \n",
       "[16] \"LDL\"        \"HDL\"        \"TChol\"      \"Trig\"       \"HMG\"       \n",
       "[21] \"asprin\"     \"antihyp\"    \"MI\"         \"HxStr\"      \"CABG\"      \n",
       "[26] \"PCI\"        \"Loop\"       \"thiazide\"   \"KDiur\"      \"ARB\"       \n",
       "[31] \"AceI\"       \"Dihy\"       \"nonDihy\"    \"BetaB\"      \"rese\"      \n",
       "[36] \"othBPmed\"   \"ONitra\"     \"nslNitrate\" \"TZD\"        \"VASO\"      \n",
       "[41] \"Cent\"       \"AlphaB\"     \"K\"          \"dthDays\"    \"dthStat\"   \n",
       "[46] \"study\"      \"studyIDI\"   \"DIUR\"       \"CaCB\"       \"study.1\"   \n",
       "[51] \"type_hyp\"   \"death\"      \"tdeath\"    "
      ]
     },
     "metadata": {},
     "output_type": "display_data"
    },
    {
     "data": {
      "text/html": [
       "<ol class=list-inline>\n",
       "\t<li>0</li>\n",
       "\t<li>53</li>\n",
       "</ol>\n"
      ],
      "text/latex": [
       "\\begin{enumerate*}\n",
       "\\item 0\n",
       "\\item 53\n",
       "\\end{enumerate*}\n"
      ],
      "text/markdown": [
       "1. 0\n",
       "2. 53\n",
       "\n",
       "\n"
      ],
      "text/plain": [
       "[1]  0 53"
      ]
     },
     "metadata": {},
     "output_type": "display_data"
    }
   ],
   "source": [
    "data=read.csv(\"Data/analysis_ds.csv\")\n",
    "data=data[which(data$train==1),]\n",
    "colnames(data)\n",
    "dim(data)"
   ]
  },
  {
   "cell_type": "markdown",
   "metadata": {},
   "source": [
    "Hierarchical clustering with baseline characteristics - Need to identify the optimal linkage type and number of clusters"
   ]
  },
  {
   "cell_type": "code",
   "execution_count": 2,
   "metadata": {},
   "outputs": [
    {
     "data": {
      "text/plain": [
       "   person_id        age           Sex          Race2          BMI     \n",
       " Min.   : NA   Min.   : NA   Min.   : NA   Min.   : NA   Min.   : NA  \n",
       " 1st Qu.: NA   1st Qu.: NA   1st Qu.: NA   1st Qu.: NA   1st Qu.: NA  \n",
       " Median : NA   Median : NA   Median : NA   Median : NA   Median : NA  \n",
       " Mean   :NaN   Mean   :NaN   Mean   :NaN   Mean   :NaN   Mean   :NaN  \n",
       " 3rd Qu.: NA   3rd Qu.: NA   3rd Qu.: NA   3rd Qu.: NA   3rd Qu.: NA  \n",
       " Max.   : NA   Max.   : NA   Max.   : NA   Max.   : NA   Max.   : NA  \n",
       "      Toba        HxMIStr        revasc         BP.s          BP.d    \n",
       " Min.   : NA   Min.   : NA   Min.   : NA   Min.   : NA   Min.   : NA  \n",
       " 1st Qu.: NA   1st Qu.: NA   1st Qu.: NA   1st Qu.: NA   1st Qu.: NA  \n",
       " Median : NA   Median : NA   Median : NA   Median : NA   Median : NA  \n",
       " Mean   :NaN   Mean   :NaN   Mean   :NaN   Mean   :NaN   Mean   :NaN  \n",
       " 3rd Qu.: NA   3rd Qu.: NA   3rd Qu.: NA   3rd Qu.: NA   3rd Qu.: NA  \n",
       " Max.   : NA   Max.   : NA   Max.   : NA   Max.   : NA   Max.   : NA  \n",
       "      LDL           HDL          TChol          Trig          HMG     \n",
       " Min.   : NA   Min.   : NA   Min.   : NA   Min.   : NA   Min.   : NA  \n",
       " 1st Qu.: NA   1st Qu.: NA   1st Qu.: NA   1st Qu.: NA   1st Qu.: NA  \n",
       " Median : NA   Median : NA   Median : NA   Median : NA   Median : NA  \n",
       " Mean   :NaN   Mean   :NaN   Mean   :NaN   Mean   :NaN   Mean   :NaN  \n",
       " 3rd Qu.: NA   3rd Qu.: NA   3rd Qu.: NA   3rd Qu.: NA   3rd Qu.: NA  \n",
       " Max.   : NA   Max.   : NA   Max.   : NA   Max.   : NA   Max.   : NA  \n",
       "     asprin       antihyp   \n",
       " Min.   : NA   Min.   : NA  \n",
       " 1st Qu.: NA   1st Qu.: NA  \n",
       " Median : NA   Median : NA  \n",
       " Mean   :NaN   Mean   :NaN  \n",
       " 3rd Qu.: NA   3rd Qu.: NA  \n",
       " Max.   : NA   Max.   : NA  "
      ]
     },
     "metadata": {},
     "output_type": "display_data"
    },
    {
     "data": {
      "text/html": [
       "0"
      ],
      "text/latex": [
       "0"
      ],
      "text/markdown": [
       "0"
      ],
      "text/plain": [
       "[1] 0"
      ]
     },
     "metadata": {},
     "output_type": "display_data"
    }
   ],
   "source": [
    "base_nmiss=data[complete.cases(data[, c(1:3, 5, 6, 9:19, 20:22, 50, 51)]), c(1:3, 5, 6, 9:19, 20:22, 50, 51)]\n",
    "base_nmiss$studyn=as.numeric(base_nmiss$study.1)\n",
    "base_nmiss=base_nmiss[, -c(7,8,20,21,22)]\n",
    "summary(base_nmiss)\n",
    "nrow(base_nmiss)\n",
    "#set.seed(120)\n",
    "#rs=sample_n(base_nmiss, size=1500, replace=F)\n",
    "#nrow(rs)"
   ]
  },
  {
   "cell_type": "code",
   "execution_count": 3,
   "metadata": {},
   "outputs": [],
   "source": [
    "m = c(\"average\", \"single\", \"complete\", \"ward\")\n",
    "names(m) = c(\"average\", \"single\", \"complete\", \"ward\")\n",
    "#ac=function(x){\n",
    "#    agnes(rs, method=x)$ac\n",
    "#}\n",
    "#map_dbl(m, ac)\n",
    "#hc=agnes(rs, method='ward')\n",
    "#pltree(hc, cex=0.6, hang=-1, main='Dendrogram of AGNES')"
   ]
  },
  {
   "cell_type": "code",
   "execution_count": 4,
   "metadata": {},
   "outputs": [
    {
     "ename": "ERROR",
     "evalue": "Error in hclust(d, method = \"ward.D2\"): must have n >= 2 objects to cluster\n",
     "output_type": "error",
     "traceback": [
      "Error in hclust(d, method = \"ward.D2\"): must have n >= 2 objects to cluster\nTraceback:\n",
      "1. hclust(d, method = \"ward.D2\")",
      "2. stop(\"must have n >= 2 objects to cluster\")"
     ]
    }
   ],
   "source": [
    "d=dist(base_nmiss, method='euclidean')\n",
    "hc2=hclust(d, method='ward.D2')\n"
   ]
  },
  {
   "cell_type": "code",
   "execution_count": 5,
   "metadata": {},
   "outputs": [
    {
     "ename": "ERROR",
     "evalue": "Error in nrow(tree$merge): object 'hc2' not found\n",
     "output_type": "error",
     "traceback": [
      "Error in nrow(tree$merge): object 'hc2' not found\nTraceback:\n",
      "1. cutree(hc2, k = 3)",
      "2. nrow(tree$merge)"
     ]
    }
   ],
   "source": [
    "sub_grp = cutree(hc2, k=3)\n",
    "table(sub_grp)\n",
    "plot(hc2, cex=0.6, xaxt='n')\n",
    "rect.hclust(hc2, k=4, border=2:5)"
   ]
  },
  {
   "cell_type": "code",
   "execution_count": null,
   "metadata": {},
   "outputs": [],
   "source": []
  },
  {
   "cell_type": "code",
   "execution_count": null,
   "metadata": {},
   "outputs": [],
   "source": []
  },
  {
   "cell_type": "code",
   "execution_count": null,
   "metadata": {},
   "outputs": [],
   "source": []
  }
 ],
 "metadata": {
  "kernelspec": {
   "display_name": "R",
   "language": "R",
   "name": "ir"
  },
  "language_info": {
   "codemirror_mode": "r",
   "file_extension": ".r",
   "mimetype": "text/x-r-source",
   "name": "R",
   "pygments_lexer": "r",
   "version": "3.6.0"
  }
 },
 "nbformat": 4,
 "nbformat_minor": 2
}
